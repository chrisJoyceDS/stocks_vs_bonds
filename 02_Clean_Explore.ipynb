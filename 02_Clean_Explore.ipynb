{
 "cells": [
  {
   "cell_type": "markdown",
   "id": "331c3195-ab59-440c-a8cf-fb2b75bfd872",
   "metadata": {},
   "source": [
    "# Clean and Explore Stock Information"
   ]
  },
  {
   "cell_type": "code",
   "execution_count": 2,
   "id": "b95350b7-1b4b-4f22-827e-eeb5b5173a11",
   "metadata": {},
   "outputs": [],
   "source": [
    "import pandas as pd\n",
    "import numpy as np\n",
    "import matplotlib.pyplot as plt\n",
    "import seaborn as sns\n",
    "import warnings\n",
    "%matplotlib inline"
   ]
  },
  {
   "cell_type": "code",
   "execution_count": 3,
   "id": "dcecb82d-49c5-42b4-8658-c6a5d0fcc509",
   "metadata": {},
   "outputs": [],
   "source": [
    "# due to file size, set low_memory to False to alter load order\n",
    "nasdaq = pd.read_csv(\"./data/nasdaq_csv.csv\",index_col=0, low_memory=False)\n",
    "nyse = pd.read_csv(\"./data/nyse_csv.csv\",index_col=0, low_memory=False)"
   ]
  },
  {
   "cell_type": "markdown",
   "id": "9b38c626-0f90-4ba1-a333-af851ada58aa",
   "metadata": {},
   "source": [
    "### Check the size of both of our datasets"
   ]
  },
  {
   "cell_type": "code",
   "execution_count": 4,
   "id": "8fb9a6d9-895d-4e4c-ada4-6c206bddde59",
   "metadata": {},
   "outputs": [
    {
     "data": {
      "text/plain": [
       "((8752326, 8), (6994408, 8))"
      ]
     },
     "execution_count": 4,
     "metadata": {},
     "output_type": "execute_result"
    }
   ],
   "source": [
    "nasdaq.shape, nyse.shape"
   ]
  },
  {
   "cell_type": "markdown",
   "id": "d9a87f7d-ba17-4571-bb83-98f826280042",
   "metadata": {},
   "source": [
    "Similar shapes, first noticeable difference is the row count difference. We will confirm below, but one possibility is the NASDAQ dataset goes further back in time despite NYSE having the longer tenure."
   ]
  },
  {
   "cell_type": "code",
   "execution_count": 5,
   "id": "9c81c6f0-57d6-4ac3-b0fb-6c970db8d484",
   "metadata": {},
   "outputs": [
    {
     "data": {
      "text/html": [
       "<div>\n",
       "<style scoped>\n",
       "    .dataframe tbody tr th:only-of-type {\n",
       "        vertical-align: middle;\n",
       "    }\n",
       "\n",
       "    .dataframe tbody tr th {\n",
       "        vertical-align: top;\n",
       "    }\n",
       "\n",
       "    .dataframe thead th {\n",
       "        text-align: right;\n",
       "    }\n",
       "</style>\n",
       "<table border=\"1\" class=\"dataframe\">\n",
       "  <thead>\n",
       "    <tr style=\"text-align: right;\">\n",
       "      <th></th>\n",
       "      <th>Date</th>\n",
       "      <th>Low</th>\n",
       "      <th>Open</th>\n",
       "      <th>Volume</th>\n",
       "      <th>High</th>\n",
       "      <th>Close</th>\n",
       "      <th>Adjusted Close</th>\n",
       "      <th>ticker</th>\n",
       "    </tr>\n",
       "  </thead>\n",
       "  <tbody>\n",
       "    <tr>\n",
       "      <th>0</th>\n",
       "      <td>16-02-1990</td>\n",
       "      <td>0.073785</td>\n",
       "      <td>0.0</td>\n",
       "      <td>940636800.0</td>\n",
       "      <td>0.0798610001802444</td>\n",
       "      <td>0.077257</td>\n",
       "      <td>0.054863</td>\n",
       "      <td>CSCO</td>\n",
       "    </tr>\n",
       "    <tr>\n",
       "      <th>1</th>\n",
       "      <td>20-02-1990</td>\n",
       "      <td>0.074653</td>\n",
       "      <td>0.0</td>\n",
       "      <td>151862400.0</td>\n",
       "      <td>0.0798610001802444</td>\n",
       "      <td>0.079861</td>\n",
       "      <td>0.056712</td>\n",
       "      <td>CSCO</td>\n",
       "    </tr>\n",
       "  </tbody>\n",
       "</table>\n",
       "</div>"
      ],
      "text/plain": [
       "         Date       Low Open       Volume                High     Close  \\\n",
       "0  16-02-1990  0.073785  0.0  940636800.0  0.0798610001802444  0.077257   \n",
       "1  20-02-1990  0.074653  0.0  151862400.0  0.0798610001802444  0.079861   \n",
       "\n",
       "   Adjusted Close ticker  \n",
       "0        0.054863   CSCO  \n",
       "1        0.056712   CSCO  "
      ]
     },
     "execution_count": 5,
     "metadata": {},
     "output_type": "execute_result"
    }
   ],
   "source": [
    "nasdaq.head(2)"
   ]
  },
  {
   "cell_type": "code",
   "execution_count": 6,
   "id": "21cb3eaa-e828-42ab-8d1c-ad290c71dc9e",
   "metadata": {},
   "outputs": [
    {
     "data": {
      "text/html": [
       "<div>\n",
       "<style scoped>\n",
       "    .dataframe tbody tr th:only-of-type {\n",
       "        vertical-align: middle;\n",
       "    }\n",
       "\n",
       "    .dataframe tbody tr th {\n",
       "        vertical-align: top;\n",
       "    }\n",
       "\n",
       "    .dataframe thead th {\n",
       "        text-align: right;\n",
       "    }\n",
       "</style>\n",
       "<table border=\"1\" class=\"dataframe\">\n",
       "  <thead>\n",
       "    <tr style=\"text-align: right;\">\n",
       "      <th></th>\n",
       "      <th>Date</th>\n",
       "      <th>Low</th>\n",
       "      <th>Open</th>\n",
       "      <th>Volume</th>\n",
       "      <th>High</th>\n",
       "      <th>Close</th>\n",
       "      <th>Adjusted Close</th>\n",
       "      <th>ticker</th>\n",
       "    </tr>\n",
       "  </thead>\n",
       "  <tbody>\n",
       "    <tr>\n",
       "      <th>0</th>\n",
       "      <td>19-06-1992</td>\n",
       "      <td>15.0</td>\n",
       "      <td>15.0</td>\n",
       "      <td>86000.0</td>\n",
       "      <td>15.0</td>\n",
       "      <td>15.0</td>\n",
       "      <td>3.640341</td>\n",
       "      <td>NXN</td>\n",
       "    </tr>\n",
       "    <tr>\n",
       "      <th>1</th>\n",
       "      <td>22-06-1992</td>\n",
       "      <td>15.0</td>\n",
       "      <td>15.0</td>\n",
       "      <td>17000.0</td>\n",
       "      <td>15.0</td>\n",
       "      <td>15.0</td>\n",
       "      <td>3.640341</td>\n",
       "      <td>NXN</td>\n",
       "    </tr>\n",
       "  </tbody>\n",
       "</table>\n",
       "</div>"
      ],
      "text/plain": [
       "         Date   Low  Open   Volume  High  Close  Adjusted Close ticker\n",
       "0  19-06-1992  15.0  15.0  86000.0  15.0   15.0        3.640341    NXN\n",
       "1  22-06-1992  15.0  15.0  17000.0  15.0   15.0        3.640341    NXN"
      ]
     },
     "execution_count": 6,
     "metadata": {},
     "output_type": "execute_result"
    }
   ],
   "source": [
    "nyse.head(2)"
   ]
  },
  {
   "cell_type": "markdown",
   "id": "cd05c4ae-6098-40f7-ae38-3f260241381d",
   "metadata": {},
   "source": [
    "Let's check column types, assuming Date is currently 'object' across both dataframes as pandas has some difficulty recognizing datetime"
   ]
  },
  {
   "cell_type": "code",
   "execution_count": 7,
   "id": "dea2cc03-1e37-4e49-be1d-70b9dab6860c",
   "metadata": {},
   "outputs": [],
   "source": [
    "# nasdaq.info()"
   ]
  },
  {
   "cell_type": "code",
   "execution_count": 8,
   "id": "b6895c17-92cb-4c43-b46c-11aa97253621",
   "metadata": {},
   "outputs": [],
   "source": [
    "# nyse.info()"
   ]
  },
  {
   "cell_type": "markdown",
   "id": "9bdf6d54-f428-4964-8b82-f88884e703f4",
   "metadata": {},
   "source": [
    "Both datasets have Date as object, but there are some other surprises:\n",
    "- we have a small null population\n",
    "- Open, High, of our NASDAQ set is object and not float\n",
    "\n",
    "We'll take care of the nulls first then take care of our column types"
   ]
  },
  {
   "cell_type": "code",
   "execution_count": 9,
   "id": "c447b82b-75d6-400b-80e7-cd0340ae29ca",
   "metadata": {},
   "outputs": [
    {
     "data": {
      "text/plain": [
       "Date                   0\n",
       "Low               130276\n",
       "Open              130276\n",
       "Volume            130276\n",
       "High              130277\n",
       "Close             130277\n",
       "Adjusted Close    130277\n",
       "ticker                 0\n",
       "dtype: int64"
      ]
     },
     "execution_count": 9,
     "metadata": {},
     "output_type": "execute_result"
    }
   ],
   "source": [
    "nasdaq.isnull().sum()"
   ]
  },
  {
   "cell_type": "code",
   "execution_count": 10,
   "id": "ae73d69d-826b-45c1-ac0a-566866fad19c",
   "metadata": {
    "jupyter": {
     "source_hidden": true
    },
    "tags": []
   },
   "outputs": [
    {
     "name": "stdout",
     "output_type": "stream",
     "text": [
      "Percentage of NASDAQ Null rows: 1.49%\n"
     ]
    }
   ],
   "source": [
    "print(f\"Percentage of NASDAQ Null rows: {round(((130_277/8_752_326)*100),2)}%\") "
   ]
  },
  {
   "cell_type": "code",
   "execution_count": 11,
   "id": "de80f621-4862-42e7-b81c-07426dbe7357",
   "metadata": {},
   "outputs": [
    {
     "data": {
      "text/plain": [
       "Date                  0\n",
       "Low               94982\n",
       "Open              94982\n",
       "Volume            94982\n",
       "High              94982\n",
       "Close             94982\n",
       "Adjusted Close    94982\n",
       "ticker                0\n",
       "dtype: int64"
      ]
     },
     "execution_count": 11,
     "metadata": {},
     "output_type": "execute_result"
    }
   ],
   "source": [
    "nyse.isnull().sum()"
   ]
  },
  {
   "cell_type": "code",
   "execution_count": 12,
   "id": "510203ff-a524-491b-84b3-3245998ef9f7",
   "metadata": {
    "jupyter": {
     "source_hidden": true
    },
    "tags": []
   },
   "outputs": [
    {
     "name": "stdout",
     "output_type": "stream",
     "text": [
      "Percentage of NYSE Null rows: 1.36%\n"
     ]
    }
   ],
   "source": [
    "print(f\"Percentage of NYSE Null rows: {round(((94_982/6_994_408)*100),2)}%\") "
   ]
  },
  {
   "cell_type": "markdown",
   "id": "0daa8278-cc6c-4aa0-a0ee-8fdc9a1c4dcc",
   "metadata": {},
   "source": [
    "The population of rows of null values within each dataset respectively is less than 5% of the entire data set. We have a couple of options:\n",
    "1. Drop the null rows as the total percentage is within accept range\n",
    "2. Fill the null values using simple means such as fillna mean, mode, back or forward fill\n",
    "3. Fill the null values using regression\n",
    "4. Integrate with API and fill in the information missing by date\n",
    "\n",
    "For our first iteration we are going to simply drop the nulls to save time. After we build and test our data pipeline for both Linear Regression for stock price prediction and ARIMA for Time Series modeling, we can return to this if we think it can improve our models.\n"
   ]
  },
  {
   "cell_type": "code",
   "execution_count": 13,
   "id": "66bf2bff-0611-4ee8-9419-57f48a3f478f",
   "metadata": {},
   "outputs": [],
   "source": [
    "nasdaq.dropna(axis=0, inplace=True)"
   ]
  },
  {
   "cell_type": "code",
   "execution_count": 14,
   "id": "8a4a2ad5-e5d6-4909-afdd-df6dfba762e1",
   "metadata": {},
   "outputs": [],
   "source": [
    "nyse.dropna(axis=0, inplace=True)"
   ]
  },
  {
   "cell_type": "code",
   "execution_count": 15,
   "id": "a480c8f7-1a76-4504-a183-c9e66b6f60c6",
   "metadata": {},
   "outputs": [
    {
     "data": {
      "text/plain": [
       "((8622049, 8), (6899426, 8))"
      ]
     },
     "execution_count": 15,
     "metadata": {},
     "output_type": "execute_result"
    }
   ],
   "source": [
    "nasdaq.shape, nyse.shape"
   ]
  },
  {
   "cell_type": "markdown",
   "id": "1d1abc55-fcbf-4b7a-bcf6-a7a304e727ed",
   "metadata": {},
   "source": [
    "Change Date to Datetime and we are ready to start looking through descriptive statistics, distributions of data, and check for any seasonality in the data"
   ]
  },
  {
   "cell_type": "code",
   "execution_count": 16,
   "id": "06c15cba-0561-4e83-9766-16d3016d07f2",
   "metadata": {},
   "outputs": [],
   "source": [
    "# remove an additional bad row from nasdaq that looks like human error or merge error from dataset\n",
    "nasdaq = nasdaq[nasdaq[\"Date\"]!=\"18-1218-12-1991\"]"
   ]
  },
  {
   "cell_type": "code",
   "execution_count": 17,
   "id": "ea45ee4d-2cf4-4ebf-b264-e3a067caacb4",
   "metadata": {},
   "outputs": [],
   "source": [
    "# add format to speed up performance on large dataset\n",
    "nasdaq[\"Date\"] = pd.to_datetime(nasdaq['Date'],format=\"%d-%m-%Y\")\n",
    "nyse[\"Date\"] = pd.to_datetime(nyse['Date'],format=\"%d-%m-%Y\")"
   ]
  },
  {
   "cell_type": "markdown",
   "id": "53562113-0e2c-4ae2-92ec-4b2ebd0fbfaa",
   "metadata": {},
   "source": [
    "Change Open, High to float64"
   ]
  },
  {
   "cell_type": "markdown",
   "id": "d9128cb7-7848-4858-9c8e-ebef1ea5b8ef",
   "metadata": {},
   "source": [
    "After trying to .astype() Open and High, we found that there was some misplaced dates in those fields which caused the incorrect type classification.\n",
    "\n",
    "We created a small convert function to try to change the value, and if not return None.\n",
    "\n",
    "Afterwards we will drop nulls to continue"
   ]
  },
  {
   "cell_type": "code",
   "execution_count": 50,
   "id": "d9b942ac-f1a1-4175-a9b1-b4749a60617f",
   "metadata": {},
   "outputs": [],
   "source": [
    "def convert(value):\n",
    "    try:\n",
    "        return float(value)\n",
    "    except:\n",
    "        return None"
   ]
  },
  {
   "cell_type": "code",
   "execution_count": 48,
   "id": "cee8ed1e-6e50-4e03-8828-34256d714bee",
   "metadata": {},
   "outputs": [],
   "source": [
    "nasdaq[\"Open\"] = nasdaq[\"Open\"].apply(lambda x: convert(x))\n",
    "nasdaq[\"High\"] = nasdaq[\"High\"].apply(lambda x: convert(x))"
   ]
  },
  {
   "cell_type": "code",
   "execution_count": 49,
   "id": "85f8b49b-2900-4275-bfe1-d263079a7d47",
   "metadata": {},
   "outputs": [
    {
     "data": {
      "text/plain": [
       "Date              0\n",
       "Low               0\n",
       "Open              2\n",
       "Volume            0\n",
       "High              1\n",
       "Close             0\n",
       "Adjusted Close    0\n",
       "ticker            0\n",
       "dtype: int64"
      ]
     },
     "execution_count": 49,
     "metadata": {},
     "output_type": "execute_result"
    }
   ],
   "source": [
    "nasdaq.isnull().sum()"
   ]
  },
  {
   "cell_type": "code",
   "execution_count": 51,
   "id": "0de4fc6e-5fb4-4be8-8b45-11150a234518",
   "metadata": {},
   "outputs": [],
   "source": [
    "nasdaq.dropna(inplace=True)"
   ]
  },
  {
   "cell_type": "code",
   "execution_count": 53,
   "id": "3ea034f8-0287-4623-8a80-4f705c6496f0",
   "metadata": {},
   "outputs": [
    {
     "data": {
      "text/plain": [
       "0"
      ]
     },
     "execution_count": 53,
     "metadata": {},
     "output_type": "execute_result"
    }
   ],
   "source": [
    "nasdaq.isnull().sum().sum()"
   ]
  },
  {
   "cell_type": "markdown",
   "id": "956c363d-b6cf-4930-8854-5197686c0a73",
   "metadata": {},
   "source": [
    "# Exploratory Data Analysis"
   ]
  },
  {
   "cell_type": "markdown",
   "id": "b8f250ac-1dd4-46fb-b8ce-f029a57e2a0e",
   "metadata": {},
   "source": [
    "How many individual stocks exist within our NASDAQ and NYSE datasets?"
   ]
  },
  {
   "cell_type": "code",
   "execution_count": 54,
   "id": "4e206482-1a59-497f-a7af-91a49b6c79cf",
   "metadata": {},
   "outputs": [
    {
     "data": {
      "text/plain": [
       "1564"
      ]
     },
     "execution_count": 54,
     "metadata": {},
     "output_type": "execute_result"
    }
   ],
   "source": [
    "len(nasdaq[\"ticker\"].unique())"
   ]
  },
  {
   "cell_type": "code",
   "execution_count": 55,
   "id": "ca2da43f-1b13-4d01-9e5a-463f0ff67bfa",
   "metadata": {},
   "outputs": [
    {
     "data": {
      "text/plain": [
       "1145"
      ]
     },
     "execution_count": 55,
     "metadata": {},
     "output_type": "execute_result"
    }
   ],
   "source": [
    "len(nyse[\"ticker\"].unique())"
   ]
  },
  {
   "cell_type": "markdown",
   "id": "135c42df-c483-406e-8f35-4fba6abb8d1e",
   "metadata": {},
   "source": [
    "There are more individual tickers in our NASDAQ set than our NYSE"
   ]
  },
  {
   "cell_type": "code",
   "execution_count": 63,
   "id": "56b73420-8fd3-4bef-98a8-d4352ebea6bf",
   "metadata": {},
   "outputs": [
    {
     "data": {
      "text/html": [
       "<div>\n",
       "<style scoped>\n",
       "    .dataframe tbody tr th:only-of-type {\n",
       "        vertical-align: middle;\n",
       "    }\n",
       "\n",
       "    .dataframe tbody tr th {\n",
       "        vertical-align: top;\n",
       "    }\n",
       "\n",
       "    .dataframe thead th {\n",
       "        text-align: right;\n",
       "    }\n",
       "</style>\n",
       "<table border=\"1\" class=\"dataframe\">\n",
       "  <thead>\n",
       "    <tr style=\"text-align: right;\">\n",
       "      <th></th>\n",
       "      <th>count</th>\n",
       "      <th>mean</th>\n",
       "      <th>std</th>\n",
       "      <th>min</th>\n",
       "      <th>25%</th>\n",
       "      <th>50%</th>\n",
       "      <th>75%</th>\n",
       "      <th>max</th>\n",
       "    </tr>\n",
       "  </thead>\n",
       "  <tbody>\n",
       "    <tr>\n",
       "      <th>Low</th>\n",
       "      <td>8622045.00000</td>\n",
       "      <td>4215774634.95771</td>\n",
       "      <td>434712007664.18317</td>\n",
       "      <td>0.00000</td>\n",
       "      <td>5.20000</td>\n",
       "      <td>13.08000</td>\n",
       "      <td>28.59000</td>\n",
       "      <td>85239003086848.00000</td>\n",
       "    </tr>\n",
       "    <tr>\n",
       "      <th>Open</th>\n",
       "      <td>8622045.00000</td>\n",
       "      <td>4324769387.52614</td>\n",
       "      <td>445854127743.85724</td>\n",
       "      <td>0.00000</td>\n",
       "      <td>5.03919</td>\n",
       "      <td>13.15000</td>\n",
       "      <td>28.93000</td>\n",
       "      <td>91249197449216.00000</td>\n",
       "    </tr>\n",
       "    <tr>\n",
       "      <th>Volume</th>\n",
       "      <td>8622045.00000</td>\n",
       "      <td>1486638.44309</td>\n",
       "      <td>18432870.91560</td>\n",
       "      <td>0.00000</td>\n",
       "      <td>6315.00000</td>\n",
       "      <td>57652.00000</td>\n",
       "      <td>337300.00000</td>\n",
       "      <td>7421640800.00000</td>\n",
       "    </tr>\n",
       "    <tr>\n",
       "      <th>High</th>\n",
       "      <td>8622045.00000</td>\n",
       "      <td>4411168149.48307</td>\n",
       "      <td>454139004931.33789</td>\n",
       "      <td>0.00000</td>\n",
       "      <td>5.45000</td>\n",
       "      <td>13.55000</td>\n",
       "      <td>29.56500</td>\n",
       "      <td>91249197449216.00000</td>\n",
       "    </tr>\n",
       "    <tr>\n",
       "      <th>Close</th>\n",
       "      <td>8622045.00000</td>\n",
       "      <td>4306318288.94347</td>\n",
       "      <td>443797023123.95166</td>\n",
       "      <td>0.00000</td>\n",
       "      <td>5.32000</td>\n",
       "      <td>13.31250</td>\n",
       "      <td>29.07000</td>\n",
       "      <td>86750999347200.00000</td>\n",
       "    </tr>\n",
       "    <tr>\n",
       "      <th>Adjusted Close</th>\n",
       "      <td>8622045.00000</td>\n",
       "      <td>4306318102.90701</td>\n",
       "      <td>443797023126.97766</td>\n",
       "      <td>-101.84761</td>\n",
       "      <td>4.18140</td>\n",
       "      <td>10.60026</td>\n",
       "      <td>25.32291</td>\n",
       "      <td>86750999347200.00000</td>\n",
       "    </tr>\n",
       "  </tbody>\n",
       "</table>\n",
       "</div>"
      ],
      "text/plain": [
       "                        count              mean                 std  \\\n",
       "Low             8622045.00000  4215774634.95771  434712007664.18317   \n",
       "Open            8622045.00000  4324769387.52614  445854127743.85724   \n",
       "Volume          8622045.00000     1486638.44309      18432870.91560   \n",
       "High            8622045.00000  4411168149.48307  454139004931.33789   \n",
       "Close           8622045.00000  4306318288.94347  443797023123.95166   \n",
       "Adjusted Close  8622045.00000  4306318102.90701  443797023126.97766   \n",
       "\n",
       "                       min         25%          50%           75%  \\\n",
       "Low                0.00000     5.20000     13.08000      28.59000   \n",
       "Open               0.00000     5.03919     13.15000      28.93000   \n",
       "Volume             0.00000  6315.00000  57652.00000  337300.00000   \n",
       "High               0.00000     5.45000     13.55000      29.56500   \n",
       "Close              0.00000     5.32000     13.31250      29.07000   \n",
       "Adjusted Close  -101.84761     4.18140     10.60026      25.32291   \n",
       "\n",
       "                                 max  \n",
       "Low             85239003086848.00000  \n",
       "Open            91249197449216.00000  \n",
       "Volume              7421640800.00000  \n",
       "High            91249197449216.00000  \n",
       "Close           86750999347200.00000  \n",
       "Adjusted Close  86750999347200.00000  "
      ]
     },
     "execution_count": 63,
     "metadata": {},
     "output_type": "execute_result"
    }
   ],
   "source": [
    "nasdaq.describe().applymap(\"{0:.5f}\".format).T"
   ]
  },
  {
   "cell_type": "code",
   "execution_count": 62,
   "id": "20db04ce-1394-4c52-a54d-0dc6a00ca5d7",
   "metadata": {},
   "outputs": [
    {
     "data": {
      "text/html": [
       "<div>\n",
       "<style scoped>\n",
       "    .dataframe tbody tr th:only-of-type {\n",
       "        vertical-align: middle;\n",
       "    }\n",
       "\n",
       "    .dataframe tbody tr th {\n",
       "        vertical-align: top;\n",
       "    }\n",
       "\n",
       "    .dataframe thead th {\n",
       "        text-align: right;\n",
       "    }\n",
       "</style>\n",
       "<table border=\"1\" class=\"dataframe\">\n",
       "  <thead>\n",
       "    <tr style=\"text-align: right;\">\n",
       "      <th></th>\n",
       "      <th>count</th>\n",
       "      <th>mean</th>\n",
       "      <th>std</th>\n",
       "      <th>min</th>\n",
       "      <th>25%</th>\n",
       "      <th>50%</th>\n",
       "      <th>75%</th>\n",
       "      <th>max</th>\n",
       "    </tr>\n",
       "  </thead>\n",
       "  <tbody>\n",
       "    <tr>\n",
       "      <th>Low</th>\n",
       "      <td>6899426.00000</td>\n",
       "      <td>720.45457</td>\n",
       "      <td>57883.54953</td>\n",
       "      <td>0.00001</td>\n",
       "      <td>9.25000</td>\n",
       "      <td>16.75000</td>\n",
       "      <td>34.84000</td>\n",
       "      <td>12942857.00000</td>\n",
       "    </tr>\n",
       "    <tr>\n",
       "      <th>Open</th>\n",
       "      <td>6899426.00000</td>\n",
       "      <td>749.53391</td>\n",
       "      <td>60739.65928</td>\n",
       "      <td>0.00000</td>\n",
       "      <td>8.95000</td>\n",
       "      <td>16.68500</td>\n",
       "      <td>35.00000</td>\n",
       "      <td>14285714.00000</td>\n",
       "    </tr>\n",
       "    <tr>\n",
       "      <th>Volume</th>\n",
       "      <td>6899426.00000</td>\n",
       "      <td>1094741.40704</td>\n",
       "      <td>4033555.99712</td>\n",
       "      <td>0.00000</td>\n",
       "      <td>37265.00000</td>\n",
       "      <td>174400.00000</td>\n",
       "      <td>785500.00000</td>\n",
       "      <td>1222342500.00000</td>\n",
       "    </tr>\n",
       "    <tr>\n",
       "      <th>High</th>\n",
       "      <td>6899426.00000</td>\n",
       "      <td>781.54799</td>\n",
       "      <td>63731.55198</td>\n",
       "      <td>0.00001</td>\n",
       "      <td>9.49000</td>\n",
       "      <td>17.14000</td>\n",
       "      <td>35.72000</td>\n",
       "      <td>14728571.00000</td>\n",
       "    </tr>\n",
       "    <tr>\n",
       "      <th>Close</th>\n",
       "      <td>6899426.00000</td>\n",
       "      <td>750.20028</td>\n",
       "      <td>60739.28341</td>\n",
       "      <td>0.00001</td>\n",
       "      <td>9.37500</td>\n",
       "      <td>16.95000</td>\n",
       "      <td>35.28000</td>\n",
       "      <td>14285714.00000</td>\n",
       "    </tr>\n",
       "    <tr>\n",
       "      <th>Adjusted Close</th>\n",
       "      <td>6899426.00000</td>\n",
       "      <td>742.16821</td>\n",
       "      <td>60739.33822</td>\n",
       "      <td>-0.37842</td>\n",
       "      <td>4.21782</td>\n",
       "      <td>10.75000</td>\n",
       "      <td>26.58941</td>\n",
       "      <td>14285714.00000</td>\n",
       "    </tr>\n",
       "  </tbody>\n",
       "</table>\n",
       "</div>"
      ],
      "text/plain": [
       "                        count           mean            std       min  \\\n",
       "Low             6899426.00000      720.45457    57883.54953   0.00001   \n",
       "Open            6899426.00000      749.53391    60739.65928   0.00000   \n",
       "Volume          6899426.00000  1094741.40704  4033555.99712   0.00000   \n",
       "High            6899426.00000      781.54799    63731.55198   0.00001   \n",
       "Close           6899426.00000      750.20028    60739.28341   0.00001   \n",
       "Adjusted Close  6899426.00000      742.16821    60739.33822  -0.37842   \n",
       "\n",
       "                        25%           50%           75%               max  \n",
       "Low                 9.25000      16.75000      34.84000    12942857.00000  \n",
       "Open                8.95000      16.68500      35.00000    14285714.00000  \n",
       "Volume          37265.00000  174400.00000  785500.00000  1222342500.00000  \n",
       "High                9.49000      17.14000      35.72000    14728571.00000  \n",
       "Close               9.37500      16.95000      35.28000    14285714.00000  \n",
       "Adjusted Close      4.21782      10.75000      26.58941    14285714.00000  "
      ]
     },
     "execution_count": 62,
     "metadata": {},
     "output_type": "execute_result"
    }
   ],
   "source": [
    "nyse.describe().applymap(\"{0:.5f}\".format).T"
   ]
  },
  {
   "cell_type": "code",
   "execution_count": null,
   "id": "bbea3ac2-d30c-45d3-97bf-cd8802bb5a08",
   "metadata": {},
   "outputs": [],
   "source": []
  }
 ],
 "metadata": {
  "kernelspec": {
   "display_name": "Python 3 (ipykernel)",
   "language": "python",
   "name": "python3"
  },
  "language_info": {
   "codemirror_mode": {
    "name": "ipython",
    "version": 3
   },
   "file_extension": ".py",
   "mimetype": "text/x-python",
   "name": "python",
   "nbconvert_exporter": "python",
   "pygments_lexer": "ipython3",
   "version": "3.9.13"
  }
 },
 "nbformat": 4,
 "nbformat_minor": 5
}
