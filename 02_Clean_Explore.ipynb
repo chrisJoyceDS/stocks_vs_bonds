{
 "cells": [
  {
   "cell_type": "markdown",
   "id": "331c3195-ab59-440c-a8cf-fb2b75bfd872",
   "metadata": {},
   "source": [
    "# Clean and Explore Stock Information"
   ]
  },
  {
   "cell_type": "code",
   "execution_count": 1,
   "id": "b95350b7-1b4b-4f22-827e-eeb5b5173a11",
   "metadata": {},
   "outputs": [],
   "source": [
    "import pandas as pd\n",
    "import numpy as np\n",
    "import matplotlib.pyplot as plt\n",
    "import seaborn as sns\n",
    "import warnings\n",
    "%matplotlib inline"
   ]
  },
  {
   "cell_type": "code",
   "execution_count": 2,
   "id": "dcecb82d-49c5-42b4-8658-c6a5d0fcc509",
   "metadata": {},
   "outputs": [],
   "source": [
    "# due to file size, set low_memory to False to alter load order\n",
    "nasdaq = pd.read_csv(\"./data/nasdaq_csv.csv\",index_col=0, low_memory=False)\n",
    "nyse = pd.read_csv(\"./data/nyse_csv.csv\",index_col=0, low_memory=False)"
   ]
  },
  {
   "cell_type": "markdown",
   "id": "9b38c626-0f90-4ba1-a333-af851ada58aa",
   "metadata": {},
   "source": [
    "### Check the size of both of our datasets"
   ]
  },
  {
   "cell_type": "code",
   "execution_count": 3,
   "id": "8fb9a6d9-895d-4e4c-ada4-6c206bddde59",
   "metadata": {},
   "outputs": [
    {
     "data": {
      "text/plain": [
       "((8752326, 8), (6994408, 8))"
      ]
     },
     "execution_count": 3,
     "metadata": {},
     "output_type": "execute_result"
    }
   ],
   "source": [
    "nasdaq.shape, nyse.shape"
   ]
  },
  {
   "cell_type": "markdown",
   "id": "d9a87f7d-ba17-4571-bb83-98f826280042",
   "metadata": {},
   "source": [
    "Similar shapes, first noticeable difference is the row count difference. We will confirm below, but one possibility is the NASDAQ dataset goes further back in time despite NYSE having the longer tenure."
   ]
  },
  {
   "cell_type": "code",
   "execution_count": 4,
   "id": "9c81c6f0-57d6-4ac3-b0fb-6c970db8d484",
   "metadata": {},
   "outputs": [
    {
     "data": {
      "text/html": [
       "<div>\n",
       "<style scoped>\n",
       "    .dataframe tbody tr th:only-of-type {\n",
       "        vertical-align: middle;\n",
       "    }\n",
       "\n",
       "    .dataframe tbody tr th {\n",
       "        vertical-align: top;\n",
       "    }\n",
       "\n",
       "    .dataframe thead th {\n",
       "        text-align: right;\n",
       "    }\n",
       "</style>\n",
       "<table border=\"1\" class=\"dataframe\">\n",
       "  <thead>\n",
       "    <tr style=\"text-align: right;\">\n",
       "      <th></th>\n",
       "      <th>Date</th>\n",
       "      <th>Low</th>\n",
       "      <th>Open</th>\n",
       "      <th>Volume</th>\n",
       "      <th>High</th>\n",
       "      <th>Close</th>\n",
       "      <th>Adjusted Close</th>\n",
       "      <th>ticker</th>\n",
       "    </tr>\n",
       "  </thead>\n",
       "  <tbody>\n",
       "    <tr>\n",
       "      <th>0</th>\n",
       "      <td>16-02-1990</td>\n",
       "      <td>0.073785</td>\n",
       "      <td>0.0</td>\n",
       "      <td>940636800.0</td>\n",
       "      <td>0.0798610001802444</td>\n",
       "      <td>0.077257</td>\n",
       "      <td>0.054863</td>\n",
       "      <td>CSCO</td>\n",
       "    </tr>\n",
       "    <tr>\n",
       "      <th>1</th>\n",
       "      <td>20-02-1990</td>\n",
       "      <td>0.074653</td>\n",
       "      <td>0.0</td>\n",
       "      <td>151862400.0</td>\n",
       "      <td>0.0798610001802444</td>\n",
       "      <td>0.079861</td>\n",
       "      <td>0.056712</td>\n",
       "      <td>CSCO</td>\n",
       "    </tr>\n",
       "  </tbody>\n",
       "</table>\n",
       "</div>"
      ],
      "text/plain": [
       "         Date       Low Open       Volume                High     Close  \\\n",
       "0  16-02-1990  0.073785  0.0  940636800.0  0.0798610001802444  0.077257   \n",
       "1  20-02-1990  0.074653  0.0  151862400.0  0.0798610001802444  0.079861   \n",
       "\n",
       "   Adjusted Close ticker  \n",
       "0        0.054863   CSCO  \n",
       "1        0.056712   CSCO  "
      ]
     },
     "execution_count": 4,
     "metadata": {},
     "output_type": "execute_result"
    }
   ],
   "source": [
    "nasdaq.head(2)"
   ]
  },
  {
   "cell_type": "code",
   "execution_count": 5,
   "id": "21cb3eaa-e828-42ab-8d1c-ad290c71dc9e",
   "metadata": {},
   "outputs": [
    {
     "data": {
      "text/html": [
       "<div>\n",
       "<style scoped>\n",
       "    .dataframe tbody tr th:only-of-type {\n",
       "        vertical-align: middle;\n",
       "    }\n",
       "\n",
       "    .dataframe tbody tr th {\n",
       "        vertical-align: top;\n",
       "    }\n",
       "\n",
       "    .dataframe thead th {\n",
       "        text-align: right;\n",
       "    }\n",
       "</style>\n",
       "<table border=\"1\" class=\"dataframe\">\n",
       "  <thead>\n",
       "    <tr style=\"text-align: right;\">\n",
       "      <th></th>\n",
       "      <th>Date</th>\n",
       "      <th>Low</th>\n",
       "      <th>Open</th>\n",
       "      <th>Volume</th>\n",
       "      <th>High</th>\n",
       "      <th>Close</th>\n",
       "      <th>Adjusted Close</th>\n",
       "      <th>ticker</th>\n",
       "    </tr>\n",
       "  </thead>\n",
       "  <tbody>\n",
       "    <tr>\n",
       "      <th>0</th>\n",
       "      <td>19-06-1992</td>\n",
       "      <td>15.0</td>\n",
       "      <td>15.0</td>\n",
       "      <td>86000.0</td>\n",
       "      <td>15.0</td>\n",
       "      <td>15.0</td>\n",
       "      <td>3.640341</td>\n",
       "      <td>NXN</td>\n",
       "    </tr>\n",
       "    <tr>\n",
       "      <th>1</th>\n",
       "      <td>22-06-1992</td>\n",
       "      <td>15.0</td>\n",
       "      <td>15.0</td>\n",
       "      <td>17000.0</td>\n",
       "      <td>15.0</td>\n",
       "      <td>15.0</td>\n",
       "      <td>3.640341</td>\n",
       "      <td>NXN</td>\n",
       "    </tr>\n",
       "  </tbody>\n",
       "</table>\n",
       "</div>"
      ],
      "text/plain": [
       "         Date   Low  Open   Volume  High  Close  Adjusted Close ticker\n",
       "0  19-06-1992  15.0  15.0  86000.0  15.0   15.0        3.640341    NXN\n",
       "1  22-06-1992  15.0  15.0  17000.0  15.0   15.0        3.640341    NXN"
      ]
     },
     "execution_count": 5,
     "metadata": {},
     "output_type": "execute_result"
    }
   ],
   "source": [
    "nyse.head(2)"
   ]
  },
  {
   "cell_type": "markdown",
   "id": "cd05c4ae-6098-40f7-ae38-3f260241381d",
   "metadata": {},
   "source": [
    "Let's check column types, assuming Date is currently 'object' across both dataframes as pandas has some difficulty recognizing datetime"
   ]
  },
  {
   "cell_type": "code",
   "execution_count": 6,
   "id": "dea2cc03-1e37-4e49-be1d-70b9dab6860c",
   "metadata": {},
   "outputs": [],
   "source": [
    "# nasdaq.info()"
   ]
  },
  {
   "cell_type": "code",
   "execution_count": 7,
   "id": "b6895c17-92cb-4c43-b46c-11aa97253621",
   "metadata": {},
   "outputs": [],
   "source": [
    "# nyse.info()"
   ]
  },
  {
   "cell_type": "markdown",
   "id": "9bdf6d54-f428-4964-8b82-f88884e703f4",
   "metadata": {},
   "source": [
    "Both datasets have Date as object, but we also have a small null population, we'll take care of the nulls first then change Date to explore this data further"
   ]
  },
  {
   "cell_type": "code",
   "execution_count": 8,
   "id": "c447b82b-75d6-400b-80e7-cd0340ae29ca",
   "metadata": {},
   "outputs": [
    {
     "data": {
      "text/plain": [
       "Date                   0\n",
       "Low               130276\n",
       "Open              130276\n",
       "Volume            130276\n",
       "High              130277\n",
       "Close             130277\n",
       "Adjusted Close    130277\n",
       "ticker                 0\n",
       "dtype: int64"
      ]
     },
     "execution_count": 8,
     "metadata": {},
     "output_type": "execute_result"
    }
   ],
   "source": [
    "nasdaq.isnull().sum()"
   ]
  },
  {
   "cell_type": "code",
   "execution_count": 9,
   "id": "ae73d69d-826b-45c1-ac0a-566866fad19c",
   "metadata": {},
   "outputs": [
    {
     "name": "stdout",
     "output_type": "stream",
     "text": [
      "Percentage of NASDAQ Null rows: 1.49%\n"
     ]
    }
   ],
   "source": [
    "print(f\"Percentage of NASDAQ Null rows: {round(((130_277/8_752_326)*100),2)}%\") "
   ]
  },
  {
   "cell_type": "code",
   "execution_count": 10,
   "id": "de80f621-4862-42e7-b81c-07426dbe7357",
   "metadata": {},
   "outputs": [
    {
     "data": {
      "text/plain": [
       "Date                  0\n",
       "Low               94982\n",
       "Open              94982\n",
       "Volume            94982\n",
       "High              94982\n",
       "Close             94982\n",
       "Adjusted Close    94982\n",
       "ticker                0\n",
       "dtype: int64"
      ]
     },
     "execution_count": 10,
     "metadata": {},
     "output_type": "execute_result"
    }
   ],
   "source": [
    "nyse.isnull().sum()"
   ]
  },
  {
   "cell_type": "code",
   "execution_count": 11,
   "id": "510203ff-a524-491b-84b3-3245998ef9f7",
   "metadata": {},
   "outputs": [
    {
     "name": "stdout",
     "output_type": "stream",
     "text": [
      "Percentage of NYSE Null rows: 1.36%\n"
     ]
    }
   ],
   "source": [
    "print(f\"Percentage of NYSE Null rows: {round(((94_982/6_994_408)*100),2)}%\") "
   ]
  },
  {
   "cell_type": "markdown",
   "id": "0daa8278-cc6c-4aa0-a0ee-8fdc9a1c4dcc",
   "metadata": {},
   "source": [
    "The population of rows of null values within each dataset respectively is less than 5% of the entire data set. We have a couple of options:\n",
    "1. Drop the null rows as the total percentage is within accept range\n",
    "2. Fill the null values using simple means such as fillna mean, mode, back or forward fill\n",
    "3. Fill the null values using regression\n",
    "\n",
    "For our first iteration we are going to simply drop the nulls to save time. After we build and test our data pipeline for both Linear Regression for stock price prediction and ARIMA for Time Series modeling, we can return to this if we think it can improve our models.\n"
   ]
  },
  {
   "cell_type": "code",
   "execution_count": 12,
   "id": "66bf2bff-0611-4ee8-9419-57f48a3f478f",
   "metadata": {},
   "outputs": [],
   "source": [
    "nasdaq.dropna(axis=0, inplace=True)"
   ]
  },
  {
   "cell_type": "code",
   "execution_count": 13,
   "id": "8a4a2ad5-e5d6-4909-afdd-df6dfba762e1",
   "metadata": {},
   "outputs": [],
   "source": [
    "nyse.dropna(axis=0, inplace=True)"
   ]
  },
  {
   "cell_type": "code",
   "execution_count": 14,
   "id": "a480c8f7-1a76-4504-a183-c9e66b6f60c6",
   "metadata": {},
   "outputs": [
    {
     "data": {
      "text/plain": [
       "((8622049, 8), (6899426, 8))"
      ]
     },
     "execution_count": 14,
     "metadata": {},
     "output_type": "execute_result"
    }
   ],
   "source": [
    "nasdaq.shape, nyse.shape"
   ]
  },
  {
   "cell_type": "markdown",
   "id": "1d1abc55-fcbf-4b7a-bcf6-a7a304e727ed",
   "metadata": {},
   "source": [
    "Change Date to Datetime and we are ready to start looking through descriptive statistics, distributions of data, and check for any seasonality in the data"
   ]
  },
  {
   "cell_type": "code",
   "execution_count": 15,
   "id": "06c15cba-0561-4e83-9766-16d3016d07f2",
   "metadata": {},
   "outputs": [],
   "source": [
    "# remove an additional bad row from nasdaq that looks like human error or merge error from dataset\n",
    "nasdaq = nasdaq[nasdaq[\"Date\"]!=\"18-1218-12-1991\"]"
   ]
  },
  {
   "cell_type": "code",
   "execution_count": 16,
   "id": "ea45ee4d-2cf4-4ebf-b264-e3a067caacb4",
   "metadata": {},
   "outputs": [],
   "source": [
    "# add format to speed up performance on large dataset\n",
    "nasdaq[\"Date\"] = pd.to_datetime(nasdaq['Date'],format=\"%d-%m-%Y\")\n",
    "nyse[\"Date\"] = pd.to_datetime(nyse['Date'],format=\"%d-%m-%Y\")"
   ]
  },
  {
   "cell_type": "code",
   "execution_count": 17,
   "id": "850ba332-a32e-4728-8337-9e0d20d95a52",
   "metadata": {},
   "outputs": [
    {
     "name": "stdout",
     "output_type": "stream",
     "text": [
      "<class 'pandas.core.frame.DataFrame'>\n",
      "Int64Index: 8622048 entries, 0 to 4300\n",
      "Data columns (total 8 columns):\n",
      " #   Column          Dtype         \n",
      "---  ------          -----         \n",
      " 0   Date            datetime64[ns]\n",
      " 1   Low             float64       \n",
      " 2   Open            object        \n",
      " 3   Volume          float64       \n",
      " 4   High            object        \n",
      " 5   Close           float64       \n",
      " 6   Adjusted Close  float64       \n",
      " 7   ticker          object        \n",
      "dtypes: datetime64[ns](1), float64(4), object(3)\n",
      "memory usage: 592.0+ MB\n"
     ]
    }
   ],
   "source": [
    "nasdaq.info()"
   ]
  },
  {
   "cell_type": "code",
   "execution_count": null,
   "id": "8685ea80-abca-4a4c-b16c-4f1d50360ef7",
   "metadata": {},
   "outputs": [],
   "source": []
  }
 ],
 "metadata": {
  "kernelspec": {
   "display_name": "Python 3 (ipykernel)",
   "language": "python",
   "name": "python3"
  },
  "language_info": {
   "codemirror_mode": {
    "name": "ipython",
    "version": 3
   },
   "file_extension": ".py",
   "mimetype": "text/x-python",
   "name": "python",
   "nbconvert_exporter": "python",
   "pygments_lexer": "ipython3",
   "version": "3.9.13"
  }
 },
 "nbformat": 4,
 "nbformat_minor": 5
}
