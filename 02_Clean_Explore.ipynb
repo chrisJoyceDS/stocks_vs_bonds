{
 "cells": [
  {
   "cell_type": "markdown",
   "id": "331c3195-ab59-440c-a8cf-fb2b75bfd872",
   "metadata": {},
   "source": [
    "# Clean and Explore Stock Information"
   ]
  },
  {
   "cell_type": "code",
   "execution_count": 1,
   "id": "b95350b7-1b4b-4f22-827e-eeb5b5173a11",
   "metadata": {},
   "outputs": [],
   "source": [
    "import pandas as pd\n",
    "import missingno\n",
    "import numpy as np\n",
    "import matplotlib.pyplot as plt\n",
    "import seaborn as sns"
   ]
  },
  {
   "cell_type": "code",
   "execution_count": 11,
   "id": "dcecb82d-49c5-42b4-8658-c6a5d0fcc509",
   "metadata": {},
   "outputs": [],
   "source": [
    "# due to file size, set low_memory to False to alter load order\n",
    "nasdaq = pd.read_csv(\"./data/nasdaq_csv.csv\",index_col=0, low_memory=False)\n",
    "nyse = pd.read_csv(\"./data/nyse_csv.csv\",index_col=0, low_memory=False)"
   ]
  },
  {
   "cell_type": "markdown",
   "id": "9b38c626-0f90-4ba1-a333-af851ada58aa",
   "metadata": {},
   "source": [
    "### Check the size of both of our datasets"
   ]
  },
  {
   "cell_type": "code",
   "execution_count": 12,
   "id": "8fb9a6d9-895d-4e4c-ada4-6c206bddde59",
   "metadata": {},
   "outputs": [
    {
     "data": {
      "text/plain": [
       "((8752326, 8), (6994408, 8))"
      ]
     },
     "execution_count": 12,
     "metadata": {},
     "output_type": "execute_result"
    }
   ],
   "source": [
    "nasdaq.shape, nyse.shape"
   ]
  },
  {
   "cell_type": "markdown",
   "id": "d9a87f7d-ba17-4571-bb83-98f826280042",
   "metadata": {},
   "source": [
    "Similar shapes, first noticeable difference is the row count difference. We will confirm below, but one possibility is the NASDAQ dataset goes further back in time despite NYSE having the longer tenure."
   ]
  },
  {
   "cell_type": "code",
   "execution_count": 13,
   "id": "9c81c6f0-57d6-4ac3-b0fb-6c970db8d484",
   "metadata": {},
   "outputs": [
    {
     "data": {
      "text/html": [
       "<div>\n",
       "<style scoped>\n",
       "    .dataframe tbody tr th:only-of-type {\n",
       "        vertical-align: middle;\n",
       "    }\n",
       "\n",
       "    .dataframe tbody tr th {\n",
       "        vertical-align: top;\n",
       "    }\n",
       "\n",
       "    .dataframe thead th {\n",
       "        text-align: right;\n",
       "    }\n",
       "</style>\n",
       "<table border=\"1\" class=\"dataframe\">\n",
       "  <thead>\n",
       "    <tr style=\"text-align: right;\">\n",
       "      <th></th>\n",
       "      <th>Date</th>\n",
       "      <th>Low</th>\n",
       "      <th>Open</th>\n",
       "      <th>Volume</th>\n",
       "      <th>High</th>\n",
       "      <th>Close</th>\n",
       "      <th>Adjusted Close</th>\n",
       "      <th>ticker</th>\n",
       "    </tr>\n",
       "  </thead>\n",
       "  <tbody>\n",
       "    <tr>\n",
       "      <th>0</th>\n",
       "      <td>16-02-1990</td>\n",
       "      <td>0.073785</td>\n",
       "      <td>0.0</td>\n",
       "      <td>940636800.0</td>\n",
       "      <td>0.0798610001802444</td>\n",
       "      <td>0.077257</td>\n",
       "      <td>0.054863</td>\n",
       "      <td>CSCO</td>\n",
       "    </tr>\n",
       "    <tr>\n",
       "      <th>1</th>\n",
       "      <td>20-02-1990</td>\n",
       "      <td>0.074653</td>\n",
       "      <td>0.0</td>\n",
       "      <td>151862400.0</td>\n",
       "      <td>0.0798610001802444</td>\n",
       "      <td>0.079861</td>\n",
       "      <td>0.056712</td>\n",
       "      <td>CSCO</td>\n",
       "    </tr>\n",
       "  </tbody>\n",
       "</table>\n",
       "</div>"
      ],
      "text/plain": [
       "         Date       Low Open       Volume                High     Close  \\\n",
       "0  16-02-1990  0.073785  0.0  940636800.0  0.0798610001802444  0.077257   \n",
       "1  20-02-1990  0.074653  0.0  151862400.0  0.0798610001802444  0.079861   \n",
       "\n",
       "   Adjusted Close ticker  \n",
       "0        0.054863   CSCO  \n",
       "1        0.056712   CSCO  "
      ]
     },
     "execution_count": 13,
     "metadata": {},
     "output_type": "execute_result"
    }
   ],
   "source": [
    "nasdaq.head(2)"
   ]
  },
  {
   "cell_type": "code",
   "execution_count": 14,
   "id": "21cb3eaa-e828-42ab-8d1c-ad290c71dc9e",
   "metadata": {},
   "outputs": [
    {
     "data": {
      "text/html": [
       "<div>\n",
       "<style scoped>\n",
       "    .dataframe tbody tr th:only-of-type {\n",
       "        vertical-align: middle;\n",
       "    }\n",
       "\n",
       "    .dataframe tbody tr th {\n",
       "        vertical-align: top;\n",
       "    }\n",
       "\n",
       "    .dataframe thead th {\n",
       "        text-align: right;\n",
       "    }\n",
       "</style>\n",
       "<table border=\"1\" class=\"dataframe\">\n",
       "  <thead>\n",
       "    <tr style=\"text-align: right;\">\n",
       "      <th></th>\n",
       "      <th>Date</th>\n",
       "      <th>Low</th>\n",
       "      <th>Open</th>\n",
       "      <th>Volume</th>\n",
       "      <th>High</th>\n",
       "      <th>Close</th>\n",
       "      <th>Adjusted Close</th>\n",
       "      <th>ticker</th>\n",
       "    </tr>\n",
       "  </thead>\n",
       "  <tbody>\n",
       "    <tr>\n",
       "      <th>0</th>\n",
       "      <td>19-06-1992</td>\n",
       "      <td>15.0</td>\n",
       "      <td>15.0</td>\n",
       "      <td>86000.0</td>\n",
       "      <td>15.0</td>\n",
       "      <td>15.0</td>\n",
       "      <td>3.640341</td>\n",
       "      <td>NXN</td>\n",
       "    </tr>\n",
       "    <tr>\n",
       "      <th>1</th>\n",
       "      <td>22-06-1992</td>\n",
       "      <td>15.0</td>\n",
       "      <td>15.0</td>\n",
       "      <td>17000.0</td>\n",
       "      <td>15.0</td>\n",
       "      <td>15.0</td>\n",
       "      <td>3.640341</td>\n",
       "      <td>NXN</td>\n",
       "    </tr>\n",
       "  </tbody>\n",
       "</table>\n",
       "</div>"
      ],
      "text/plain": [
       "         Date   Low  Open   Volume  High  Close  Adjusted Close ticker\n",
       "0  19-06-1992  15.0  15.0  86000.0  15.0   15.0        3.640341    NXN\n",
       "1  22-06-1992  15.0  15.0  17000.0  15.0   15.0        3.640341    NXN"
      ]
     },
     "execution_count": 14,
     "metadata": {},
     "output_type": "execute_result"
    }
   ],
   "source": [
    "nyse.head(2)"
   ]
  },
  {
   "cell_type": "code",
   "execution_count": null,
   "id": "97640541-1c4a-4a08-a1aa-1c4edf03cf78",
   "metadata": {},
   "outputs": [],
   "source": []
  }
 ],
 "metadata": {
  "kernelspec": {
   "display_name": "Python 3 (ipykernel)",
   "language": "python",
   "name": "python3"
  },
  "language_info": {
   "codemirror_mode": {
    "name": "ipython",
    "version": 3
   },
   "file_extension": ".py",
   "mimetype": "text/x-python",
   "name": "python",
   "nbconvert_exporter": "python",
   "pygments_lexer": "ipython3",
   "version": "3.9.13"
  }
 },
 "nbformat": 4,
 "nbformat_minor": 5
}
