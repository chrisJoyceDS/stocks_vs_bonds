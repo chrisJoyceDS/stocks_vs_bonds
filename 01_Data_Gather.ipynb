{
 "cells": [
  {
   "cell_type": "markdown",
   "id": "f18c4ba3-fecf-47f1-a887-10c458cde6ef",
   "metadata": {},
   "source": [
    "# Version 1: Stock Pricing Data"
   ]
  },
  {
   "cell_type": "markdown",
   "id": "4d22ddb7-73ff-49fc-ac6e-153bf408659f",
   "metadata": {},
   "source": [
    "Currently there are 11 Stock Market Sectors:\n",
    "- Energy: Companies that do business in the oil and natural gas industry, including exploration and production.\n",
    "- Materials: Companies that provide various goods for use in manufacturing and other applications, makers of chemicals, construction materials, containers, etc.\n",
    "- Industrials: Companies over a wide range of businesss such as Transportation (airlines, rr, etc.), Aerospace, Defense, Construction, Engineering.\n",
    "- Utilities: Companies that provide electrical power, natural gas transmission and distribution, renewable energy.\n",
    "- Healthcare: Made up of two primary components: Companies that develop pharma and treatments, Companies that create and provide healthcare equipment and services.\n",
    "- Financials: Companies that handle money: Banks, Insurance Companies, Brokerage Houses, etc.\n",
    "- Consumer Discretionary: Companies that sell higher priced items like automobiles, luxury goods, leisure products\n",
    "- Consumer Staples: Food, beverage, and tobacco companies\n",
    "- Information Technology: Computer Hardware, Software, Cybersecurity, etc.\n",
    "- Communication Services: Telecommmunication Services, Media, and Entertainment\n",
    "- Real Estate: Made up of two primary components: Companies responsible for developing new real estate projects, REITS (real estate investment trusts).\n",
    "\n",
    "Version 1 of this project will include only Stock information, but as such will include all 11 sectors."
   ]
  },
  {
   "cell_type": "markdown",
   "id": "c4b448de-c3ff-4c01-9207-887dc9a58e2d",
   "metadata": {},
   "source": [
    "Using the initial version of this project, we will use the nasdaq and nyse csvs to pull all the various individual ticker values to pull the required information"
   ]
  },
  {
   "cell_type": "code",
   "execution_count": 1,
   "id": "3fc51116-19b7-4032-9ce7-114c9152899f",
   "metadata": {},
   "outputs": [],
   "source": [
    "import os\n",
    "import pandas as pd\n",
    "import pandas_datareader.data as web\n",
    "import yfinance as yf\n",
    "\n",
    "import datetime\n",
    "import get_methods"
   ]
  },
  {
   "cell_type": "code",
   "execution_count": 2,
   "id": "8dd79165-78ef-4b92-a817-89c095dc3043",
   "metadata": {},
   "outputs": [],
   "source": [
    "# due to file size, set low_memory to False to alter load order\n",
    "nasdaq = pd.read_csv(\"./data/nasdaq_csv.csv\",index_col=0, low_memory=False)\n",
    "nyse = pd.read_csv(\"./data/nyse_csv.csv\",index_col=0, low_memory=False)"
   ]
  },
  {
   "cell_type": "code",
   "execution_count": 3,
   "id": "b08ab02a-5977-43ec-9c3b-3e11cc47cbed",
   "metadata": {},
   "outputs": [],
   "source": [
    "nasdaq_tickers = nasdaq['ticker'].unique().tolist()"
   ]
  },
  {
   "cell_type": "code",
   "execution_count": 4,
   "id": "c96726c6-9a42-4068-9c38-0859d8294191",
   "metadata": {},
   "outputs": [],
   "source": [
    "nyse_tickers = nyse['ticker'].unique().tolist()"
   ]
  },
  {
   "cell_type": "code",
   "execution_count": 5,
   "id": "da3fb3e6-3a33-4e40-b72d-8a14c17cc83c",
   "metadata": {},
   "outputs": [
    {
     "data": {
      "text/plain": [
       "(1145, 1564)"
      ]
     },
     "execution_count": 5,
     "metadata": {},
     "output_type": "execute_result"
    }
   ],
   "source": [
    "len(nyse_tickers), len(nasdaq_tickers)"
   ]
  },
  {
   "cell_type": "markdown",
   "id": "1fa8d8da-0e7f-4c75-a9fa-0960cb6b4f46",
   "metadata": {},
   "source": [
    "We have ~1k NYSE stock tickers and ~1.5K Nasdaq stock tickers to work with, let's jump to pandas-datareaders and start crafting a function that will pull the necessary ticker information and create a dataframe for us to host on AWS RDS"
   ]
  },
  {
   "cell_type": "markdown",
   "id": "4d106005-edfe-4479-9e7c-9a7c6072259f",
   "metadata": {},
   "source": [
    "---\n",
    "## Extract Stock Pricing Information by Ticker using pandas-datareader and yahoo! finance"
   ]
  },
  {
   "cell_type": "markdown",
   "id": "14cfde2e-0c8b-47a8-b633-0b7e7d238fff",
   "metadata": {},
   "source": [
    "To begin let's try 10 years worth of stock pricing data 2013 to 2023:"
   ]
  },
  {
   "cell_type": "code",
   "execution_count": 7,
   "id": "07dfb66a-a079-4383-be61-d1249c1e1a8d",
   "metadata": {},
   "outputs": [],
   "source": [
    "start = datetime.datetime(2013,7,19)\n",
    "end = datetime.datetime(2023,7,19)"
   ]
  },
  {
   "cell_type": "markdown",
   "id": "3a0fcbae-eb05-4586-a135-6d4c9445568a",
   "metadata": {},
   "source": [
    "Let's test 1 stock ticker to understand the response and how we can:\n",
    "- make a re-usable function to capture ticker prices\n",
    "- create a postgresql database to store this information"
   ]
  },
  {
   "cell_type": "code",
   "execution_count": 4,
   "id": "017dedb7-6c10-4589-81ad-367959aa09d1",
   "metadata": {},
   "outputs": [],
   "source": [
    "yfin = yf.pdr_override()"
   ]
  },
  {
   "cell_type": "code",
   "execution_count": 12,
   "id": "60cdeb1e-dfe4-4909-b624-d3a320af4342",
   "metadata": {},
   "outputs": [
    {
     "name": "stdout",
     "output_type": "stream",
     "text": [
      "[*********************100%***********************]  1 of 1 completed\n"
     ]
    }
   ],
   "source": [
    "test = web.get_data_yahoo('GOOG', start='2013-07-19', end='2023-07-19')"
   ]
  },
  {
   "cell_type": "code",
   "execution_count": 13,
   "id": "660ecce1-7384-459d-be49-0b49f3afec37",
   "metadata": {},
   "outputs": [
    {
     "data": {
      "text/html": [
       "<div>\n",
       "<style scoped>\n",
       "    .dataframe tbody tr th:only-of-type {\n",
       "        vertical-align: middle;\n",
       "    }\n",
       "\n",
       "    .dataframe tbody tr th {\n",
       "        vertical-align: top;\n",
       "    }\n",
       "\n",
       "    .dataframe thead th {\n",
       "        text-align: right;\n",
       "    }\n",
       "</style>\n",
       "<table border=\"1\" class=\"dataframe\">\n",
       "  <thead>\n",
       "    <tr style=\"text-align: right;\">\n",
       "      <th></th>\n",
       "      <th>Open</th>\n",
       "      <th>High</th>\n",
       "      <th>Low</th>\n",
       "      <th>Close</th>\n",
       "      <th>Adj Close</th>\n",
       "      <th>Volume</th>\n",
       "    </tr>\n",
       "    <tr>\n",
       "      <th>Date</th>\n",
       "      <th></th>\n",
       "      <th></th>\n",
       "      <th></th>\n",
       "      <th></th>\n",
       "      <th></th>\n",
       "      <th></th>\n",
       "    </tr>\n",
       "  </thead>\n",
       "  <tbody>\n",
       "    <tr>\n",
       "      <th>2013-07-19</th>\n",
       "      <td>22.082479</td>\n",
       "      <td>22.489454</td>\n",
       "      <td>21.808506</td>\n",
       "      <td>22.331297</td>\n",
       "      <td>22.331297</td>\n",
       "      <td>295475379</td>\n",
       "    </tr>\n",
       "    <tr>\n",
       "      <th>2013-07-22</th>\n",
       "      <td>22.465794</td>\n",
       "      <td>22.731546</td>\n",
       "      <td>22.341259</td>\n",
       "      <td>22.682480</td>\n",
       "      <td>22.682480</td>\n",
       "      <td>116563276</td>\n",
       "    </tr>\n",
       "    <tr>\n",
       "      <th>2013-07-23</th>\n",
       "      <td>22.682480</td>\n",
       "      <td>22.739765</td>\n",
       "      <td>22.405270</td>\n",
       "      <td>22.510626</td>\n",
       "      <td>22.510626</td>\n",
       "      <td>82134711</td>\n",
       "    </tr>\n",
       "    <tr>\n",
       "      <th>2013-07-24</th>\n",
       "      <td>22.596802</td>\n",
       "      <td>22.672518</td>\n",
       "      <td>22.433414</td>\n",
       "      <td>22.488209</td>\n",
       "      <td>22.488209</td>\n",
       "      <td>83451629</td>\n",
       "    </tr>\n",
       "    <tr>\n",
       "      <th>2013-07-25</th>\n",
       "      <td>22.263302</td>\n",
       "      <td>22.337523</td>\n",
       "      <td>22.069279</td>\n",
       "      <td>22.109629</td>\n",
       "      <td>22.109629</td>\n",
       "      <td>120493954</td>\n",
       "    </tr>\n",
       "  </tbody>\n",
       "</table>\n",
       "</div>"
      ],
      "text/plain": [
       "                 Open       High        Low      Close  Adj Close     Volume\n",
       "Date                                                                        \n",
       "2013-07-19  22.082479  22.489454  21.808506  22.331297  22.331297  295475379\n",
       "2013-07-22  22.465794  22.731546  22.341259  22.682480  22.682480  116563276\n",
       "2013-07-23  22.682480  22.739765  22.405270  22.510626  22.510626   82134711\n",
       "2013-07-24  22.596802  22.672518  22.433414  22.488209  22.488209   83451629\n",
       "2013-07-25  22.263302  22.337523  22.069279  22.109629  22.109629  120493954"
      ]
     },
     "execution_count": 13,
     "metadata": {},
     "output_type": "execute_result"
    }
   ],
   "source": [
    "test.head()"
   ]
  },
  {
   "cell_type": "markdown",
   "id": "ff0e28d8-7cda-4ca0-88ae-1c02aa3e3139",
   "metadata": {},
   "source": [
    "Considering the ticker is not present in the table, and that we will be pulling considerable amounts of data for ~2500 tickers, it is probably best to store this information within a PostgreSQL DB and host on AWS to save local memory and performance.\n",
    "\n",
    "To help performance but also be able to keep records of multiple stocks and their asscoiated time series data we will set up the database with two initial Tables:\n",
    "- Ticker Table\n",
    "    - Columns: 'ticker_id' (Primary key), 'ticker_symbol'\n",
    "    - This table will store information about each stock ticker\n",
    "    - Index on 'ticker_symbol' to speed up searches on specific stocks\n",
    "- Price Table\n",
    "    - Columns: 'price_id' (Primary key), 'ticker_id' (Foreign key referencing the Ticker table), 'date', 'open', 'high', 'low', 'close', 'adj_close', 'volume'\n",
    "    - This table will store the stock price data for each ticker\n",
    "    - Potentially create an index on both the 'ticker_id' and 'date' column for efficient time-based queries \n",
    "    \n",
    "Other considerations:\n",
    "- For 'price_id' and 'ticker_id' we will need to ensure uniqueness to prevent collisions between records, to start we will use the SERIAL datatype for the different ids which should be managed by PostgreSQL"
   ]
  },
  {
   "cell_type": "markdown",
   "id": "5feca53c-d98c-4181-bc86-0b18a8fdd6a2",
   "metadata": {},
   "source": [
    "### Next Steps:\n",
    "\n",
    "1. Create our PostgreSQL Database\n",
    "2. Create the Ticker Table\n",
    "3. Load Ticker Information\n",
    "4. Create the Price Table\n",
    "5. Load Price Data\n",
    "6. Create an Amazon RDS Instance\n",
    "7. Connect to the Amazon RDS Instance\n",
    "8. Import the schema\n",
    "9. Load the Data\n",
    "10. Verify the data"
   ]
  },
  {
   "cell_type": "code",
   "execution_count": null,
   "id": "a529b1b2-34b9-49b2-a5c5-3868b48d32fc",
   "metadata": {},
   "outputs": [],
   "source": []
  }
 ],
 "metadata": {
  "kernelspec": {
   "display_name": "Python 3 (ipykernel)",
   "language": "python",
   "name": "python3"
  },
  "language_info": {
   "codemirror_mode": {
    "name": "ipython",
    "version": 3
   },
   "file_extension": ".py",
   "mimetype": "text/x-python",
   "name": "python",
   "nbconvert_exporter": "python",
   "pygments_lexer": "ipython3",
   "version": "3.9.13"
  }
 },
 "nbformat": 4,
 "nbformat_minor": 5
}
