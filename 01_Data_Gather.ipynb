{
 "cells": [
  {
   "cell_type": "markdown",
   "id": "f18c4ba3-fecf-47f1-a887-10c458cde6ef",
   "metadata": {},
   "source": [
    "# Version 1: Stock Pricing Data"
   ]
  },
  {
   "cell_type": "markdown",
   "id": "4d22ddb7-73ff-49fc-ac6e-153bf408659f",
   "metadata": {},
   "source": [
    "Currently there are 11 Stock Market Sectors:\n",
    "- Energy: Companies that do business in the oil and natural gas industry, including exploration and production.\n",
    "- Materials: Companies that provide various goods for use in manufacturing and other applications, makers of chemicals, construction materials, containers, etc.\n",
    "- Industrials: Companies over a wide range of businesss such as Transportation (airlines, rr, etc.), Aerospace, Defense, Construction, Engineering.\n",
    "- Utilities: Companies that provide electrical power, natural gas transmission and distribution, renewable energy.\n",
    "- Healthcare: Made up of two primary components: Companies that develop pharma and treatments, Companies that create and provide healthcare equipment and services.\n",
    "- Financials: Companies that handle money: Banks, Insurance Companies, Brokerage Houses, etc.\n",
    "- Consumer Discretionary: Companies that sell higher priced items like automobiles, luxury goods, leisure products\n",
    "- Consumer Staples: Food, beverage, and tobacco companies\n",
    "- Information Technology: Computer Hardware, Software, Cybersecurity, etc.\n",
    "- Communication Services: Telecommmunication Services, Media, and Entertainment\n",
    "- Real Estate: Made up of two primary components: Companies responsible for developing new real estate projects, REITS (real estate investment trusts).\n",
    "\n",
    "Version 1 of this project will include only Stock information, but as such will include all 11 sectors."
   ]
  },
  {
   "cell_type": "markdown",
   "id": "c4b448de-c3ff-4c01-9207-887dc9a58e2d",
   "metadata": {},
   "source": [
    "Using the initial version of this project, we will use the nasdaq and nyse csvs to pull all the various individual ticker values to pull the required information"
   ]
  },
  {
   "cell_type": "code",
   "execution_count": 1,
   "id": "3fc51116-19b7-4032-9ce7-114c9152899f",
   "metadata": {},
   "outputs": [
    {
     "ename": "ModuleNotFoundError",
     "evalue": "No module named 'pandas_datareader'",
     "output_type": "error",
     "traceback": [
      "\u001b[0;31m---------------------------------------------------------------------------\u001b[0m",
      "\u001b[0;31mModuleNotFoundError\u001b[0m                       Traceback (most recent call last)",
      "\u001b[0;32m/var/folders/6y/v5glmyqn4txdzjjjjdn0r32w0000gn/T/ipykernel_21555/2179456700.py\u001b[0m in \u001b[0;36m<module>\u001b[0;34m\u001b[0m\n\u001b[1;32m      1\u001b[0m \u001b[0;32mimport\u001b[0m \u001b[0mos\u001b[0m\u001b[0;34m\u001b[0m\u001b[0;34m\u001b[0m\u001b[0m\n\u001b[1;32m      2\u001b[0m \u001b[0;32mimport\u001b[0m \u001b[0mpandas\u001b[0m \u001b[0;32mas\u001b[0m \u001b[0mpd\u001b[0m\u001b[0;34m\u001b[0m\u001b[0;34m\u001b[0m\u001b[0m\n\u001b[0;32m----> 3\u001b[0;31m \u001b[0;32mimport\u001b[0m \u001b[0mpandas_datareader\u001b[0m\u001b[0;34m.\u001b[0m\u001b[0mdata\u001b[0m \u001b[0;32mas\u001b[0m \u001b[0mweb\u001b[0m\u001b[0;34m\u001b[0m\u001b[0;34m\u001b[0m\u001b[0m\n\u001b[0m",
      "\u001b[0;31mModuleNotFoundError\u001b[0m: No module named 'pandas_datareader'"
     ]
    }
   ],
   "source": [
    "import os\n",
    "import pandas as pd\n",
    "import pandas_datareader.data as web"
   ]
  },
  {
   "cell_type": "code",
   "execution_count": 4,
   "id": "8dd79165-78ef-4b92-a817-89c095dc3043",
   "metadata": {},
   "outputs": [],
   "source": [
    "# due to file size, set low_memory to False to alter load order\n",
    "nasdaq = pd.read_csv(\"./data/nasdaq_csv.csv\",index_col=0, low_memory=False)\n",
    "nyse = pd.read_csv(\"./data/nyse_csv.csv\",index_col=0, low_memory=False)"
   ]
  },
  {
   "cell_type": "code",
   "execution_count": 10,
   "id": "b08ab02a-5977-43ec-9c3b-3e11cc47cbed",
   "metadata": {},
   "outputs": [],
   "source": [
    "nasdaq_tickers = nasdaq['ticker'].unique().tolist()"
   ]
  },
  {
   "cell_type": "code",
   "execution_count": 13,
   "id": "c96726c6-9a42-4068-9c38-0859d8294191",
   "metadata": {},
   "outputs": [],
   "source": [
    "nyse_tickers = nyse['ticker'].unique().tolist()"
   ]
  },
  {
   "cell_type": "code",
   "execution_count": 16,
   "id": "da3fb3e6-3a33-4e40-b72d-8a14c17cc83c",
   "metadata": {},
   "outputs": [
    {
     "data": {
      "text/plain": [
       "(1145, 1564)"
      ]
     },
     "execution_count": 16,
     "metadata": {},
     "output_type": "execute_result"
    }
   ],
   "source": [
    "len(nyse_tickers), len(nasdaq_tickers)"
   ]
  },
  {
   "cell_type": "markdown",
   "id": "1fa8d8da-0e7f-4c75-a9fa-0960cb6b4f46",
   "metadata": {},
   "source": [
    "We have ~1k NYSE stock tickers and ~1.5K Nasdaq stock tickers to work with, let's jump to pandas-datareaders and start crafting a function that will pull the necessary ticker information and create a dataframe for us to host on AWS RDS"
   ]
  },
  {
   "cell_type": "markdown",
   "id": "4d106005-edfe-4479-9e7c-9a7c6072259f",
   "metadata": {},
   "source": [
    "---\n",
    "## Extract Stock Pricing Information by Ticker using pandas-datareader and yahoo! finance"
   ]
  },
  {
   "cell_type": "code",
   "execution_count": 17,
   "id": "2a4ee816-f00e-438d-972f-62fa2df94570",
   "metadata": {},
   "outputs": [
    {
     "data": {
      "text/plain": [
       "Index(['Date', 'Low', 'Open', 'Volume', 'High', 'Close', 'Adjusted Close',\n",
       "       'ticker'],\n",
       "      dtype='object')"
      ]
     },
     "execution_count": 17,
     "metadata": {},
     "output_type": "execute_result"
    }
   ],
   "source": [
    "nasdaq.columns"
   ]
  },
  {
   "cell_type": "code",
   "execution_count": null,
   "id": "b7edfc0b-8881-42f0-9052-2ed8d987a5b1",
   "metadata": {},
   "outputs": [],
   "source": []
  }
 ],
 "metadata": {
  "kernelspec": {
   "display_name": "Python 3 (ipykernel)",
   "language": "python",
   "name": "python3"
  },
  "language_info": {
   "codemirror_mode": {
    "name": "ipython",
    "version": 3
   },
   "file_extension": ".py",
   "mimetype": "text/x-python",
   "name": "python",
   "nbconvert_exporter": "python",
   "pygments_lexer": "ipython3",
   "version": "3.9.13"
  }
 },
 "nbformat": 4,
 "nbformat_minor": 5
}
