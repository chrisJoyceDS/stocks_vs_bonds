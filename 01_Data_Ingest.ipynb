{
 "cells": [
  {
   "cell_type": "markdown",
   "id": "ba83a0b9-162f-42ab-be42-e22874cf6de0",
   "metadata": {},
   "source": [
    "# Initial Kaggle Dataset: CSV/JSON Ingestion and Formatting"
   ]
  },
  {
   "cell_type": "markdown",
   "id": "66971d31-ff3a-4162-aa85-1ec6f55e0bb6",
   "metadata": {},
   "source": [
    "The dataset provided by <a href=\"https://www.kaggle.com/datasets/paultimothymooney/stock-market-data\"> Kaggle Dataset</a> consists of four groupings of stock information:\n",
    "- NASDAQ\n",
    "    - Market participants transact trades through dealers rather than directly with each other.\n",
    "    - Utilizes market makers who maintain inventories of stock to buy and sell from their accounts in transactions with individual customers and other deailers.\n",
    "    - MMs give two sided quotes, a bid (buy) and ask (sell) price for a security in which they are making a market. More than 260 market making firms provide liquidity for NASDAQ listed stocks.\n",
    "    - Known for technology and innovation related stocks, which means growth-oriented and more volatile.\n",
    "- NYSE\n",
    "    - Sells stocks via the auction method: Market participants transact trades directly with each other.\n",
    "    - Transactions occur from open to close between 9:30 am EST - 4:00 pm EST. \n",
    "    - Early orders can be placed starting at 6:30 am EST, and as the market is not open yet, these orders are paired with the highest bidding price and lowest asking price.\n",
    "    - NYSE has 'designated market makers' which serve as a human point of contact for the listed company on the NYSE trading floor.\n",
    "    - DMMs provided ~17% of liquidity in NYSE trading in 2019\n",
    "    - NYSE retains bluechips and industrials, not necessarily but meaning more stable and well established.\n",
    "- SP500\n",
    "    - More information will be added later\n",
    "- Forbes2000\n",
    "    - More information will be added later\n",
    "    \n",
    "Two of these entities are stock exchanges while the other two are indexes. For the initial pull of the data we will only be working with the NASDAQ and NYSE datasets. Once we have a more grounded foundation and understanding of the data we will do additional analyses on SP500 and Forbes2000 stocks,"
   ]
  },
  {
   "cell_type": "code",
   "execution_count": 1,
   "id": "a6fd3e22-5b7d-4d6c-98e7-cbadbdbafd09",
   "metadata": {},
   "outputs": [],
   "source": [
    "import os\n",
    "import pandas\n",
    "import missingno"
   ]
  },
  {
   "cell_type": "code",
   "execution_count": null,
   "id": "5fa124fa-f2d5-4efa-872d-391389b02e01",
   "metadata": {},
   "outputs": [],
   "source": []
  }
 ],
 "metadata": {
  "kernelspec": {
   "display_name": "Python 3 (ipykernel)",
   "language": "python",
   "name": "python3"
  },
  "language_info": {
   "codemirror_mode": {
    "name": "ipython",
    "version": 3
   },
   "file_extension": ".py",
   "mimetype": "text/x-python",
   "name": "python",
   "nbconvert_exporter": "python",
   "pygments_lexer": "ipython3",
   "version": "3.9.13"
  }
 },
 "nbformat": 4,
 "nbformat_minor": 5
}
