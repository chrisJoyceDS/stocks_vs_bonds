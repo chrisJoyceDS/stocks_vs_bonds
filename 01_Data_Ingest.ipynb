{
 "cells": [
  {
   "cell_type": "markdown",
   "id": "ba83a0b9-162f-42ab-be42-e22874cf6de0",
   "metadata": {},
   "source": [
    "# Initial Kaggle Dataset: CSV/JSON Ingestion and Formatting"
   ]
  },
  {
   "cell_type": "markdown",
   "id": "66971d31-ff3a-4162-aa85-1ec6f55e0bb6",
   "metadata": {},
   "source": [
    "The dataset provided by <a href=\"https://www.kaggle.com/datasets/paultimothymooney/stock-market-data\"> Kaggle Dataset</a> consists of four groupings of stock information:\n",
    "- NASDAQ\n",
    "    - Market participants transact trades through dealers rather than directly with each other.\n",
    "    - Utilizes market makers who maintain inventories of stock to buy and sell from their accounts in transactions with individual customers and other deailers.\n",
    "    - MMs give two sided quotes, a bid (buy) and ask (sell) price for a security in which they are making a market. More than 260 market making firms provide liquidity for NASDAQ listed stocks.\n",
    "    - Known for technology and innovation related stocks, which means growth-oriented and more volatile.\n",
    "- NYSE\n",
    "    - Sells stocks via the auction method: Market participants transact trades directly with each other.\n",
    "    - Transactions occur from open to close between 9:30 am EST - 4:00 pm EST. \n",
    "    - Early orders can be placed starting at 6:30 am EST, and as the market is not open yet, these orders are paired with the highest bidding price and lowest asking price.\n",
    "    - NYSE has 'designated market makers' which serve as a human point of contact for the listed company on the NYSE trading floor.\n",
    "    - DMMs provided ~17% of liquidity in NYSE trading in 2019\n",
    "    - NYSE retains bluechips and industrials, not necessarily but meaning more stable and well established.\n",
    "- SP500\n",
    "    - More information will be added later\n",
    "- Forbes2000\n",
    "    - More information will be added later\n",
    "    \n",
    "Two of these entities are stock exchanges while the other two are indexes. For the initial pull of the data we will only be working with the NASDAQ and NYSE datasets. Once we have a more grounded foundation and understanding of the data we will do additional analyses on SP500 and Forbes2000 stocks,"
   ]
  },
  {
   "cell_type": "code",
   "execution_count": 1,
   "id": "a6fd3e22-5b7d-4d6c-98e7-cbadbdbafd09",
   "metadata": {},
   "outputs": [],
   "source": [
    "import os\n",
    "import pandas as pd\n",
    "import warnings"
   ]
  },
  {
   "cell_type": "code",
   "execution_count": 2,
   "id": "5fa124fa-f2d5-4efa-872d-391389b02e01",
   "metadata": {},
   "outputs": [],
   "source": [
    "nasdaq = os.listdir(\"./stock_market_data/nasdaq/csv\")\n",
    "nasdaq_csv = pd.DataFrame()\n",
    "nyse = os.listdir(\"./stock_market_data/nyse/csv\")\n",
    "nyse_csv = pd.DataFrame()"
   ]
  },
  {
   "cell_type": "markdown",
   "id": "f5cf9001-236a-41df-90b9-b0c9d9d8b2ad",
   "metadata": {},
   "source": [
    "Now that we have each director of CSV's saved, we will create a function to:\n",
    "1. Loop through a given directory\n",
    "2. Create a path for each csv\n",
    "3. Read that csv as a pandas dataframe\n",
    "4. Append that data into one large data frame\n",
    "\n",
    "Initially we will keep separate files for Nasdaq and NYSE. For later analyses we have the option of combining."
   ]
  },
  {
   "cell_type": "code",
   "execution_count": 3,
   "id": "8b19833c-e086-4e43-a950-8951422cbb9c",
   "metadata": {},
   "outputs": [],
   "source": [
    "# incase of future warnings for pd.concat\n",
    "def fxn():\n",
    "    warnings.warn(\"Future\", FutureWarning)"
   ]
  },
  {
   "cell_type": "code",
   "execution_count": 4,
   "id": "a6e96ec4-a478-4d9b-aa38-38b489fb101c",
   "metadata": {
    "tags": []
   },
   "outputs": [],
   "source": [
    "with warnings.catch_warnings():\n",
    "    warnings.simplefilter(\"ignore\")\n",
    "    fxn()\n",
    "    for csv in nasdaq:\n",
    "        try:\n",
    "            temp = pd.read_csv(f\"./stock_market_data/nasdaq/csv/{csv}\")\n",
    "            temp[\"ticker\"] = csv.split(\".\")[0]\n",
    "            nasdaq_csv = pd.concat([nasdaq_csv, temp])\n",
    "        except:\n",
    "            # incase of any .ipynb_checkpoints/.DS_Store files\n",
    "            continue\n",
    "\n",
    "    for csv in nyse:\n",
    "        try:\n",
    "            temp = pd.read_csv(f\"./stock_market_data/nyse/csv/{csv}\")\n",
    "            temp[\"ticker\"] = csv.split(\".\")[0]\n",
    "            nyse_csv = pd.concat([nyse_csv, temp])\n",
    "        except:\n",
    "            # incase of any .ipynb_checkpoints/.DS_Store files\n",
    "            continue"
   ]
  },
  {
   "cell_type": "code",
   "execution_count": 5,
   "id": "e3195e69-fb05-4895-9aa0-fc72a9e2f92a",
   "metadata": {},
   "outputs": [
    {
     "data": {
      "text/plain": [
       "((8752326, 8), (6994408, 8))"
      ]
     },
     "execution_count": 5,
     "metadata": {},
     "output_type": "execute_result"
    }
   ],
   "source": [
    "nasdaq_csv.shape, nyse_csv.shape"
   ]
  },
  {
   "cell_type": "code",
   "execution_count": 6,
   "id": "7483a1a3-729f-44e9-be21-a08baf71cfe1",
   "metadata": {},
   "outputs": [
    {
     "data": {
      "text/html": [
       "<div>\n",
       "<style scoped>\n",
       "    .dataframe tbody tr th:only-of-type {\n",
       "        vertical-align: middle;\n",
       "    }\n",
       "\n",
       "    .dataframe tbody tr th {\n",
       "        vertical-align: top;\n",
       "    }\n",
       "\n",
       "    .dataframe thead th {\n",
       "        text-align: right;\n",
       "    }\n",
       "</style>\n",
       "<table border=\"1\" class=\"dataframe\">\n",
       "  <thead>\n",
       "    <tr style=\"text-align: right;\">\n",
       "      <th></th>\n",
       "      <th>Date</th>\n",
       "      <th>Low</th>\n",
       "      <th>Open</th>\n",
       "      <th>Volume</th>\n",
       "      <th>High</th>\n",
       "      <th>Close</th>\n",
       "      <th>Adjusted Close</th>\n",
       "      <th>ticker</th>\n",
       "    </tr>\n",
       "  </thead>\n",
       "  <tbody>\n",
       "    <tr>\n",
       "      <th>0</th>\n",
       "      <td>16-02-1990</td>\n",
       "      <td>0.073785</td>\n",
       "      <td>0.0</td>\n",
       "      <td>940636800.0</td>\n",
       "      <td>0.079861</td>\n",
       "      <td>0.077257</td>\n",
       "      <td>0.054863</td>\n",
       "      <td>CSCO</td>\n",
       "    </tr>\n",
       "    <tr>\n",
       "      <th>1</th>\n",
       "      <td>20-02-1990</td>\n",
       "      <td>0.074653</td>\n",
       "      <td>0.0</td>\n",
       "      <td>151862400.0</td>\n",
       "      <td>0.079861</td>\n",
       "      <td>0.079861</td>\n",
       "      <td>0.056712</td>\n",
       "      <td>CSCO</td>\n",
       "    </tr>\n",
       "    <tr>\n",
       "      <th>2</th>\n",
       "      <td>21-02-1990</td>\n",
       "      <td>0.075521</td>\n",
       "      <td>0.0</td>\n",
       "      <td>70531200.0</td>\n",
       "      <td>0.078993</td>\n",
       "      <td>0.078125</td>\n",
       "      <td>0.055479</td>\n",
       "      <td>CSCO</td>\n",
       "    </tr>\n",
       "    <tr>\n",
       "      <th>3</th>\n",
       "      <td>22-02-1990</td>\n",
       "      <td>0.078993</td>\n",
       "      <td>0.0</td>\n",
       "      <td>45216000.0</td>\n",
       "      <td>0.081597</td>\n",
       "      <td>0.078993</td>\n",
       "      <td>0.056095</td>\n",
       "      <td>CSCO</td>\n",
       "    </tr>\n",
       "    <tr>\n",
       "      <th>4</th>\n",
       "      <td>23-02-1990</td>\n",
       "      <td>0.078125</td>\n",
       "      <td>0.0</td>\n",
       "      <td>44697600.0</td>\n",
       "      <td>0.079861</td>\n",
       "      <td>0.078559</td>\n",
       "      <td>0.055787</td>\n",
       "      <td>CSCO</td>\n",
       "    </tr>\n",
       "  </tbody>\n",
       "</table>\n",
       "</div>"
      ],
      "text/plain": [
       "         Date       Low Open       Volume      High     Close  Adjusted Close  \\\n",
       "0  16-02-1990  0.073785  0.0  940636800.0  0.079861  0.077257        0.054863   \n",
       "1  20-02-1990  0.074653  0.0  151862400.0  0.079861  0.079861        0.056712   \n",
       "2  21-02-1990  0.075521  0.0   70531200.0  0.078993  0.078125        0.055479   \n",
       "3  22-02-1990  0.078993  0.0   45216000.0  0.081597  0.078993        0.056095   \n",
       "4  23-02-1990  0.078125  0.0   44697600.0  0.079861  0.078559        0.055787   \n",
       "\n",
       "  ticker  \n",
       "0   CSCO  \n",
       "1   CSCO  \n",
       "2   CSCO  \n",
       "3   CSCO  \n",
       "4   CSCO  "
      ]
     },
     "execution_count": 6,
     "metadata": {},
     "output_type": "execute_result"
    }
   ],
   "source": [
    "nasdaq_csv.head()"
   ]
  },
  {
   "cell_type": "code",
   "execution_count": 7,
   "id": "31623b98-b5cf-4118-bfe3-ed36c1c9972d",
   "metadata": {},
   "outputs": [
    {
     "data": {
      "text/html": [
       "<div>\n",
       "<style scoped>\n",
       "    .dataframe tbody tr th:only-of-type {\n",
       "        vertical-align: middle;\n",
       "    }\n",
       "\n",
       "    .dataframe tbody tr th {\n",
       "        vertical-align: top;\n",
       "    }\n",
       "\n",
       "    .dataframe thead th {\n",
       "        text-align: right;\n",
       "    }\n",
       "</style>\n",
       "<table border=\"1\" class=\"dataframe\">\n",
       "  <thead>\n",
       "    <tr style=\"text-align: right;\">\n",
       "      <th></th>\n",
       "      <th>Date</th>\n",
       "      <th>Low</th>\n",
       "      <th>Open</th>\n",
       "      <th>Volume</th>\n",
       "      <th>High</th>\n",
       "      <th>Close</th>\n",
       "      <th>Adjusted Close</th>\n",
       "      <th>ticker</th>\n",
       "    </tr>\n",
       "  </thead>\n",
       "  <tbody>\n",
       "    <tr>\n",
       "      <th>0</th>\n",
       "      <td>19-06-1992</td>\n",
       "      <td>15.0</td>\n",
       "      <td>15.0</td>\n",
       "      <td>86000.0</td>\n",
       "      <td>15.0</td>\n",
       "      <td>15.0</td>\n",
       "      <td>3.640341</td>\n",
       "      <td>NXN</td>\n",
       "    </tr>\n",
       "    <tr>\n",
       "      <th>1</th>\n",
       "      <td>22-06-1992</td>\n",
       "      <td>15.0</td>\n",
       "      <td>15.0</td>\n",
       "      <td>17000.0</td>\n",
       "      <td>15.0</td>\n",
       "      <td>15.0</td>\n",
       "      <td>3.640341</td>\n",
       "      <td>NXN</td>\n",
       "    </tr>\n",
       "    <tr>\n",
       "      <th>2</th>\n",
       "      <td>23-06-1992</td>\n",
       "      <td>15.0</td>\n",
       "      <td>15.0</td>\n",
       "      <td>3400.0</td>\n",
       "      <td>15.0</td>\n",
       "      <td>15.0</td>\n",
       "      <td>3.640341</td>\n",
       "      <td>NXN</td>\n",
       "    </tr>\n",
       "    <tr>\n",
       "      <th>3</th>\n",
       "      <td>24-06-1992</td>\n",
       "      <td>15.0</td>\n",
       "      <td>15.0</td>\n",
       "      <td>4500.0</td>\n",
       "      <td>15.0</td>\n",
       "      <td>15.0</td>\n",
       "      <td>3.640341</td>\n",
       "      <td>NXN</td>\n",
       "    </tr>\n",
       "    <tr>\n",
       "      <th>4</th>\n",
       "      <td>25-06-1992</td>\n",
       "      <td>15.0</td>\n",
       "      <td>15.0</td>\n",
       "      <td>800.0</td>\n",
       "      <td>15.0</td>\n",
       "      <td>15.0</td>\n",
       "      <td>3.640341</td>\n",
       "      <td>NXN</td>\n",
       "    </tr>\n",
       "  </tbody>\n",
       "</table>\n",
       "</div>"
      ],
      "text/plain": [
       "         Date   Low  Open   Volume  High  Close  Adjusted Close ticker\n",
       "0  19-06-1992  15.0  15.0  86000.0  15.0   15.0        3.640341    NXN\n",
       "1  22-06-1992  15.0  15.0  17000.0  15.0   15.0        3.640341    NXN\n",
       "2  23-06-1992  15.0  15.0   3400.0  15.0   15.0        3.640341    NXN\n",
       "3  24-06-1992  15.0  15.0   4500.0  15.0   15.0        3.640341    NXN\n",
       "4  25-06-1992  15.0  15.0    800.0  15.0   15.0        3.640341    NXN"
      ]
     },
     "execution_count": 7,
     "metadata": {},
     "output_type": "execute_result"
    }
   ],
   "source": [
    "nyse_csv.head()"
   ]
  },
  {
   "cell_type": "code",
   "execution_count": 8,
   "id": "6013e25d-497c-4398-8183-5f3816105d1c",
   "metadata": {},
   "outputs": [],
   "source": [
    "nasdaq_csv.to_csv(\"./data/nasdaq_csv.csv\")\n",
    "nyse_csv.to_csv(\"./data/nyse_csv.csv\")"
   ]
  },
  {
   "cell_type": "markdown",
   "id": "f025776e-53fe-477d-a43c-3124b10ac4bf",
   "metadata": {},
   "source": [
    "With our ingestion completed of the NASDAQ and NYSE csv data, we can now dive into cleaning and Exploratory Data Analysis"
   ]
  },
  {
   "cell_type": "code",
   "execution_count": null,
   "id": "63e3038a-2a8e-46ca-8bba-96b292352e95",
   "metadata": {},
   "outputs": [],
   "source": []
  }
 ],
 "metadata": {
  "kernelspec": {
   "display_name": "Python 3 (ipykernel)",
   "language": "python",
   "name": "python3"
  },
  "language_info": {
   "codemirror_mode": {
    "name": "ipython",
    "version": 3
   },
   "file_extension": ".py",
   "mimetype": "text/x-python",
   "name": "python",
   "nbconvert_exporter": "python",
   "pygments_lexer": "ipython3",
   "version": "3.9.13"
  }
 },
 "nbformat": 4,
 "nbformat_minor": 5
}
