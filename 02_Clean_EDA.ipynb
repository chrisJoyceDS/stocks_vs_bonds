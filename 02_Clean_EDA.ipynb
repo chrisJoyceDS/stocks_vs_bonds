{
 "cells": [
  {
   "cell_type": "markdown",
   "id": "aeeec8e5-0312-4fe7-bb62-0a65a8880040",
   "metadata": {},
   "source": [
    "# Version 1: Stock Pricing Data"
   ]
  },
  {
   "cell_type": "markdown",
   "id": "d5054986-6830-4c05-94df-047e78259b49",
   "metadata": {},
   "source": [
    "## Clean and Exploratory Data Analysis\n",
    "\n",
    "We have successfully pulled in historical stock price data for ~2500 different stock symbols and stored them in a local PostgreSQL database that will be hosted on an AWS RDS instance once we have a local copy of the dashboard running. Our next steps are to explore the data we have collected, clean any null records or incorrect information, and start to explore and understand the data we have collected.\n",
    "\n",
    "To help our exploration we will fetch the data from the database using SQL and perform exploration through the Python package pandas. To start simple we will start with our favorite stock from the last notebook: Cisco Systems, Inc. (CSCO)."
   ]
  },
  {
   "cell_type": "code",
   "execution_count": 1,
   "id": "6417a8de-8674-4800-be4c-6d59e52ed0d5",
   "metadata": {},
   "outputs": [],
   "source": [
    "import pandas as pd\n",
    "import numpy as np\n",
    "import datetime\n",
    "import psycopg2\n",
    "import getpass"
   ]
  },
  {
   "cell_type": "code",
   "execution_count": 2,
   "id": "0926e6ee-8876-4aca-b93a-b5b996c60940",
   "metadata": {},
   "outputs": [
    {
     "name": "stdin",
     "output_type": "stream",
     "text": [
      "Enter PostgreSQL password:  ········\n"
     ]
    }
   ],
   "source": [
    "postgres_password = getpass.getpass(\"Enter PostgreSQL password: \")"
   ]
  },
  {
   "cell_type": "code",
   "execution_count": 3,
   "id": "d56132ca-edfd-4b8b-aec9-3cf3cdaedda9",
   "metadata": {},
   "outputs": [],
   "source": [
    "conn = psycopg2.connect(\n",
    "    host=\"localhost\",\n",
    "    user=\"postgres\",\n",
    "    database=\"stock_info\",\n",
    "    password=postgres_password\n",
    ")"
   ]
  },
  {
   "cell_type": "code",
   "execution_count": 4,
   "id": "b5015083-fb85-4f7b-9426-a5c373d1bf0c",
   "metadata": {},
   "outputs": [],
   "source": [
    "cursor = conn.cursor()"
   ]
  },
  {
   "cell_type": "code",
   "execution_count": 12,
   "id": "a4d6de7a-bd4f-428a-86ca-bbceb50d3745",
   "metadata": {},
   "outputs": [],
   "source": [
    "all_csco_query = \"\"\"\n",
    "SELECT price.ticker_id, price.date, price.open, price.high, price.low, price.close, price.adj_close, price.volume, ticker.ticker_symbol \n",
    "FROM price\n",
    "    INNER JOIN ticker ON ticker.ticker_id=price.ticker_id\n",
    "WHERE ticker.ticker_symbol='CSCO';\n",
    "\"\"\""
   ]
  },
  {
   "cell_type": "code",
   "execution_count": 13,
   "id": "e4d3feb8-5ecf-4b07-930a-cf747ac91483",
   "metadata": {},
   "outputs": [],
   "source": [
    "cursor.execute(all_csco_query)"
   ]
  },
  {
   "cell_type": "code",
   "execution_count": 14,
   "id": "36b80991-490a-4bed-8975-af8bf5cbb63e",
   "metadata": {},
   "outputs": [],
   "source": [
    "csco = cursor.fetchall()"
   ]
  },
  {
   "cell_type": "code",
   "execution_count": 15,
   "id": "0c2ab43c-50cc-4a6a-ad82-299ca89371ab",
   "metadata": {},
   "outputs": [],
   "source": [
    "columns = [\"ticker_id\",\"date\",\"open\",\"high\",\"low\",\"close\",\"adj_close\",\"volume\",\"symbol\"]"
   ]
  },
  {
   "cell_type": "code",
   "execution_count": 16,
   "id": "78305fa6-5321-471c-a040-80c7cd4fb5c9",
   "metadata": {},
   "outputs": [],
   "source": [
    "df_csco = pd.DataFrame(csco, columns=columns)"
   ]
  },
  {
   "cell_type": "code",
   "execution_count": 17,
   "id": "9f5827f5-7da2-40d6-83b4-5f1ee8dbf3fc",
   "metadata": {},
   "outputs": [
    {
     "data": {
      "text/html": [
       "<div>\n",
       "<style scoped>\n",
       "    .dataframe tbody tr th:only-of-type {\n",
       "        vertical-align: middle;\n",
       "    }\n",
       "\n",
       "    .dataframe tbody tr th {\n",
       "        vertical-align: top;\n",
       "    }\n",
       "\n",
       "    .dataframe thead th {\n",
       "        text-align: right;\n",
       "    }\n",
       "</style>\n",
       "<table border=\"1\" class=\"dataframe\">\n",
       "  <thead>\n",
       "    <tr style=\"text-align: right;\">\n",
       "      <th></th>\n",
       "      <th>ticker_id</th>\n",
       "      <th>date</th>\n",
       "      <th>open</th>\n",
       "      <th>high</th>\n",
       "      <th>low</th>\n",
       "      <th>close</th>\n",
       "      <th>adj_close</th>\n",
       "      <th>volume</th>\n",
       "      <th>symbol</th>\n",
       "    </tr>\n",
       "  </thead>\n",
       "  <tbody>\n",
       "    <tr>\n",
       "      <th>0</th>\n",
       "      <td>1</td>\n",
       "      <td>1990-02-16</td>\n",
       "      <td>0.0</td>\n",
       "      <td>0.07986100018024445</td>\n",
       "      <td>0.07378499954938889</td>\n",
       "      <td>0.07725699990987778</td>\n",
       "      <td>0.0536152720451355</td>\n",
       "      <td>940636800</td>\n",
       "      <td>CSCO</td>\n",
       "    </tr>\n",
       "    <tr>\n",
       "      <th>1</th>\n",
       "      <td>1</td>\n",
       "      <td>1990-02-20</td>\n",
       "      <td>0.0</td>\n",
       "      <td>0.07986100018024445</td>\n",
       "      <td>0.07465299963951111</td>\n",
       "      <td>0.07986100018024445</td>\n",
       "      <td>0.05542241036891937</td>\n",
       "      <td>151862400</td>\n",
       "      <td>CSCO</td>\n",
       "    </tr>\n",
       "    <tr>\n",
       "      <th>2</th>\n",
       "      <td>1</td>\n",
       "      <td>1990-02-21</td>\n",
       "      <td>0.0</td>\n",
       "      <td>0.07899300009012222</td>\n",
       "      <td>0.07552099972963333</td>\n",
       "      <td>0.078125</td>\n",
       "      <td>0.05421767011284828</td>\n",
       "      <td>70531200</td>\n",
       "      <td>CSCO</td>\n",
       "    </tr>\n",
       "    <tr>\n",
       "      <th>3</th>\n",
       "      <td>1</td>\n",
       "      <td>1990-02-22</td>\n",
       "      <td>0.0</td>\n",
       "      <td>0.08159700036048889</td>\n",
       "      <td>0.07899300009012222</td>\n",
       "      <td>0.07899300009012222</td>\n",
       "      <td>0.05482003092765808</td>\n",
       "      <td>45216000</td>\n",
       "      <td>CSCO</td>\n",
       "    </tr>\n",
       "    <tr>\n",
       "      <th>4</th>\n",
       "      <td>1</td>\n",
       "      <td>1990-02-23</td>\n",
       "      <td>0.0</td>\n",
       "      <td>0.07986100018024445</td>\n",
       "      <td>0.078125</td>\n",
       "      <td>0.07855899631977081</td>\n",
       "      <td>0.054518841207027435</td>\n",
       "      <td>44697600</td>\n",
       "      <td>CSCO</td>\n",
       "    </tr>\n",
       "  </tbody>\n",
       "</table>\n",
       "</div>"
      ],
      "text/plain": [
       "   ticker_id        date open                 high                  low  \\\n",
       "0          1  1990-02-16  0.0  0.07986100018024445  0.07378499954938889   \n",
       "1          1  1990-02-20  0.0  0.07986100018024445  0.07465299963951111   \n",
       "2          1  1990-02-21  0.0  0.07899300009012222  0.07552099972963333   \n",
       "3          1  1990-02-22  0.0  0.08159700036048889  0.07899300009012222   \n",
       "4          1  1990-02-23  0.0  0.07986100018024445             0.078125   \n",
       "\n",
       "                 close             adj_close     volume symbol  \n",
       "0  0.07725699990987778    0.0536152720451355  940636800   CSCO  \n",
       "1  0.07986100018024445   0.05542241036891937  151862400   CSCO  \n",
       "2             0.078125   0.05421767011284828   70531200   CSCO  \n",
       "3  0.07899300009012222   0.05482003092765808   45216000   CSCO  \n",
       "4  0.07855899631977081  0.054518841207027435   44697600   CSCO  "
      ]
     },
     "execution_count": 17,
     "metadata": {},
     "output_type": "execute_result"
    }
   ],
   "source": [
    "df_csco.head()"
   ]
  },
  {
   "cell_type": "code",
   "execution_count": 18,
   "id": "acb2686d-450e-4284-9bd9-19382b4ff5c2",
   "metadata": {},
   "outputs": [
    {
     "data": {
      "text/html": [
       "<div>\n",
       "<style scoped>\n",
       "    .dataframe tbody tr th:only-of-type {\n",
       "        vertical-align: middle;\n",
       "    }\n",
       "\n",
       "    .dataframe tbody tr th {\n",
       "        vertical-align: top;\n",
       "    }\n",
       "\n",
       "    .dataframe thead th {\n",
       "        text-align: right;\n",
       "    }\n",
       "</style>\n",
       "<table border=\"1\" class=\"dataframe\">\n",
       "  <thead>\n",
       "    <tr style=\"text-align: right;\">\n",
       "      <th></th>\n",
       "      <th>ticker_id</th>\n",
       "      <th>date</th>\n",
       "      <th>open</th>\n",
       "      <th>high</th>\n",
       "      <th>low</th>\n",
       "      <th>close</th>\n",
       "      <th>adj_close</th>\n",
       "      <th>volume</th>\n",
       "      <th>symbol</th>\n",
       "    </tr>\n",
       "  </thead>\n",
       "  <tbody>\n",
       "    <tr>\n",
       "      <th>8415</th>\n",
       "      <td>1</td>\n",
       "      <td>2023-07-17</td>\n",
       "      <td>50.20000076293945</td>\n",
       "      <td>50.95000076293945</td>\n",
       "      <td>50.13999938964844</td>\n",
       "      <td>50.810001373291016</td>\n",
       "      <td>50.810001373291016</td>\n",
       "      <td>16140700</td>\n",
       "      <td>CSCO</td>\n",
       "    </tr>\n",
       "    <tr>\n",
       "      <th>8416</th>\n",
       "      <td>1</td>\n",
       "      <td>2023-07-18</td>\n",
       "      <td>50.97999954223633</td>\n",
       "      <td>51.369998931884766</td>\n",
       "      <td>50.849998474121094</td>\n",
       "      <td>51.2400016784668</td>\n",
       "      <td>51.2400016784668</td>\n",
       "      <td>16434200</td>\n",
       "      <td>CSCO</td>\n",
       "    </tr>\n",
       "    <tr>\n",
       "      <th>8417</th>\n",
       "      <td>1</td>\n",
       "      <td>2023-07-19</td>\n",
       "      <td>52.209999084472656</td>\n",
       "      <td>52.439998626708984</td>\n",
       "      <td>51.70000076293945</td>\n",
       "      <td>52.43000030517578</td>\n",
       "      <td>52.43000030517578</td>\n",
       "      <td>21745000</td>\n",
       "      <td>CSCO</td>\n",
       "    </tr>\n",
       "    <tr>\n",
       "      <th>8418</th>\n",
       "      <td>1</td>\n",
       "      <td>2023-07-20</td>\n",
       "      <td>52.060001373291016</td>\n",
       "      <td>52.869998931884766</td>\n",
       "      <td>51.91999816894531</td>\n",
       "      <td>52.369998931884766</td>\n",
       "      <td>52.369998931884766</td>\n",
       "      <td>22784400</td>\n",
       "      <td>CSCO</td>\n",
       "    </tr>\n",
       "    <tr>\n",
       "      <th>8419</th>\n",
       "      <td>1</td>\n",
       "      <td>2023-07-21</td>\n",
       "      <td>52.744998931884766</td>\n",
       "      <td>52.994998931884766</td>\n",
       "      <td>52.525001525878906</td>\n",
       "      <td>52.630001068115234</td>\n",
       "      <td>52.630001068115234</td>\n",
       "      <td>46455330</td>\n",
       "      <td>CSCO</td>\n",
       "    </tr>\n",
       "  </tbody>\n",
       "</table>\n",
       "</div>"
      ],
      "text/plain": [
       "      ticker_id        date                open                high  \\\n",
       "8415          1  2023-07-17   50.20000076293945   50.95000076293945   \n",
       "8416          1  2023-07-18   50.97999954223633  51.369998931884766   \n",
       "8417          1  2023-07-19  52.209999084472656  52.439998626708984   \n",
       "8418          1  2023-07-20  52.060001373291016  52.869998931884766   \n",
       "8419          1  2023-07-21  52.744998931884766  52.994998931884766   \n",
       "\n",
       "                     low               close           adj_close    volume  \\\n",
       "8415   50.13999938964844  50.810001373291016  50.810001373291016  16140700   \n",
       "8416  50.849998474121094    51.2400016784668    51.2400016784668  16434200   \n",
       "8417   51.70000076293945   52.43000030517578   52.43000030517578  21745000   \n",
       "8418   51.91999816894531  52.369998931884766  52.369998931884766  22784400   \n",
       "8419  52.525001525878906  52.630001068115234  52.630001068115234  46455330   \n",
       "\n",
       "     symbol  \n",
       "8415   CSCO  \n",
       "8416   CSCO  \n",
       "8417   CSCO  \n",
       "8418   CSCO  \n",
       "8419   CSCO  "
      ]
     },
     "execution_count": 18,
     "metadata": {},
     "output_type": "execute_result"
    }
   ],
   "source": [
    "df_csco.tail()"
   ]
  },
  {
   "cell_type": "code",
   "execution_count": 19,
   "id": "9feb4297-031b-487c-8b37-18d1be725e95",
   "metadata": {},
   "outputs": [
    {
     "data": {
      "text/html": [
       "<div>\n",
       "<style scoped>\n",
       "    .dataframe tbody tr th:only-of-type {\n",
       "        vertical-align: middle;\n",
       "    }\n",
       "\n",
       "    .dataframe tbody tr th {\n",
       "        vertical-align: top;\n",
       "    }\n",
       "\n",
       "    .dataframe thead th {\n",
       "        text-align: right;\n",
       "    }\n",
       "</style>\n",
       "<table border=\"1\" class=\"dataframe\">\n",
       "  <thead>\n",
       "    <tr style=\"text-align: right;\">\n",
       "      <th></th>\n",
       "      <th>ticker_id</th>\n",
       "      <th>volume</th>\n",
       "    </tr>\n",
       "  </thead>\n",
       "  <tbody>\n",
       "    <tr>\n",
       "      <th>count</th>\n",
       "      <td>8420.0</td>\n",
       "      <td>8.420000e+03</td>\n",
       "    </tr>\n",
       "    <tr>\n",
       "      <th>mean</th>\n",
       "      <td>1.0</td>\n",
       "      <td>5.323321e+07</td>\n",
       "    </tr>\n",
       "    <tr>\n",
       "      <th>std</th>\n",
       "      <td>0.0</td>\n",
       "      <td>4.112230e+07</td>\n",
       "    </tr>\n",
       "    <tr>\n",
       "      <th>min</th>\n",
       "      <td>1.0</td>\n",
       "      <td>8.064000e+05</td>\n",
       "    </tr>\n",
       "    <tr>\n",
       "      <th>25%</th>\n",
       "      <td>1.0</td>\n",
       "      <td>2.709868e+07</td>\n",
       "    </tr>\n",
       "    <tr>\n",
       "      <th>50%</th>\n",
       "      <td>1.0</td>\n",
       "      <td>4.573010e+07</td>\n",
       "    </tr>\n",
       "    <tr>\n",
       "      <th>75%</th>\n",
       "      <td>1.0</td>\n",
       "      <td>6.545312e+07</td>\n",
       "    </tr>\n",
       "    <tr>\n",
       "      <th>max</th>\n",
       "      <td>1.0</td>\n",
       "      <td>9.406368e+08</td>\n",
       "    </tr>\n",
       "  </tbody>\n",
       "</table>\n",
       "</div>"
      ],
      "text/plain": [
       "       ticker_id        volume\n",
       "count     8420.0  8.420000e+03\n",
       "mean         1.0  5.323321e+07\n",
       "std          0.0  4.112230e+07\n",
       "min          1.0  8.064000e+05\n",
       "25%          1.0  2.709868e+07\n",
       "50%          1.0  4.573010e+07\n",
       "75%          1.0  6.545312e+07\n",
       "max          1.0  9.406368e+08"
      ]
     },
     "execution_count": 19,
     "metadata": {},
     "output_type": "execute_result"
    }
   ],
   "source": [
    "df_csco.describe()"
   ]
  },
  {
   "cell_type": "code",
   "execution_count": 21,
   "id": "5103ebe9-dfba-42d7-b547-b3bb9abd4212",
   "metadata": {},
   "outputs": [
    {
     "name": "stdout",
     "output_type": "stream",
     "text": [
      "<class 'pandas.core.frame.DataFrame'>\n",
      "RangeIndex: 8420 entries, 0 to 8419\n",
      "Data columns (total 9 columns):\n",
      " #   Column     Non-Null Count  Dtype \n",
      "---  ------     --------------  ----- \n",
      " 0   ticker_id  8420 non-null   int64 \n",
      " 1   date       8420 non-null   object\n",
      " 2   open       8420 non-null   object\n",
      " 3   high       8420 non-null   object\n",
      " 4   low        8420 non-null   object\n",
      " 5   close      8420 non-null   object\n",
      " 6   adj_close  8420 non-null   object\n",
      " 7   volume     8420 non-null   int64 \n",
      " 8   symbol     8420 non-null   object\n",
      "dtypes: int64(2), object(7)\n",
      "memory usage: 592.2+ KB\n"
     ]
    }
   ],
   "source": [
    "df_csco.info()"
   ]
  },
  {
   "cell_type": "code",
   "execution_count": null,
   "id": "f9b22627-ccac-4ff2-bcba-1828a5d8615d",
   "metadata": {},
   "outputs": [],
   "source": []
  }
 ],
 "metadata": {
  "kernelspec": {
   "display_name": "Python 3 (ipykernel)",
   "language": "python",
   "name": "python3"
  },
  "language_info": {
   "codemirror_mode": {
    "name": "ipython",
    "version": 3
   },
   "file_extension": ".py",
   "mimetype": "text/x-python",
   "name": "python",
   "nbconvert_exporter": "python",
   "pygments_lexer": "ipython3",
   "version": "3.9.13"
  }
 },
 "nbformat": 4,
 "nbformat_minor": 5
}
